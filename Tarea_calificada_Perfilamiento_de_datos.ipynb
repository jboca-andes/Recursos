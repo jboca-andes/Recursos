{
  "nbformat": 4,
  "nbformat_minor": 0,
  "metadata": {
    "colab": {
      "name": "Tarea calificada: Perfilamiento de datos.ipynb",
      "provenance": [],
      "authorship_tag": "ABX9TyNsplamfigO+9dfm/WG6ek1",
      "include_colab_link": true
    },
    "kernelspec": {
      "name": "python3",
      "display_name": "Python 3"
    },
    "language_info": {
      "name": "python"
    }
  },
  "cells": [
    {
      "cell_type": "markdown",
      "metadata": {
        "id": "view-in-github",
        "colab_type": "text"
      },
      "source": [
        "<a href=\"https://colab.research.google.com/github/jboca-andes/Recursos/blob/main/Tarea_calificada_Perfilamiento_de_datos.ipynb\" target=\"_parent\"><img src=\"https://colab.research.google.com/assets/colab-badge.svg\" alt=\"Open In Colab\"/></a>"
      ]
    },
    {
      "cell_type": "code",
      "metadata": {
        "id": "TsjzBxBqa6bG"
      },
      "source": [
        "!apt-get install openjdk-8-jdk-headless -qq > /dev/null\n",
        "!wget -q https://downloads.apache.org/spark/spark-3.2.0/spark-3.2.0-bin-hadoop2.7.tgz\n",
        "!tar xf spark-3.2.0-bin-hadoop2.7.tgz"
      ],
      "execution_count": 1,
      "outputs": []
    },
    {
      "cell_type": "code",
      "metadata": {
        "id": "XNp6AgJnXkRf"
      },
      "source": [
        "import os\n",
        "os.environ[\"JAVA_HOME\"] = \"/usr/lib/jvm/java-8-openjdk-amd64\"\n",
        "os.environ[\"SPARK_HOME\"] = \"/content/spark-3.2.0-bin-hadoop2.7\""
      ],
      "execution_count": 2,
      "outputs": []
    },
    {
      "cell_type": "code",
      "metadata": {
        "id": "j9SjCMmHbILG",
        "colab": {
          "base_uri": "https://localhost:8080/"
        },
        "outputId": "e5eb1b6c-ef98-41d5-985a-db25486b5b9a"
      },
      "source": [
        "!pip install -q findspark\n",
        "!pip install -q pyspark"
      ],
      "execution_count": 3,
      "outputs": [
        {
          "output_type": "stream",
          "name": "stdout",
          "text": [
            "\u001b[K     |████████████████████████████████| 281.3 MB 36 kB/s \n",
            "\u001b[K     |████████████████████████████████| 198 kB 55.4 MB/s \n",
            "\u001b[?25h  Building wheel for pyspark (setup.py) ... \u001b[?25l\u001b[?25hdone\n"
          ]
        }
      ]
    },
    {
      "cell_type": "code",
      "metadata": {
        "id": "2_2buTHCbR7-"
      },
      "source": [
        "import findspark\n",
        "findspark.init()"
      ],
      "execution_count": 4,
      "outputs": []
    },
    {
      "cell_type": "code",
      "metadata": {
        "id": "wHQNFBDobJ2G"
      },
      "source": [
        "from pyspark.sql import SparkSession\n",
        "\n",
        "spark = SparkSession.builder\\\n",
        "        .master(\"local\")\\\n",
        "        .appName(\"Colab\")\\\n",
        "        .config('spark.ui.port', '4050')\\\n",
        "        .getOrCreate()"
      ],
      "execution_count": 5,
      "outputs": []
    },
    {
      "cell_type": "code",
      "metadata": {
        "id": "K4375DDxWcu-"
      },
      "source": [
        "aeropuertos = 'aeropuertos.csv'\n",
        "vuelos = 'vuelos.csv'\n",
        "from pyspark import SparkFiles\n",
        "spark.sparkContext.addFile(f'https://raw.githubusercontent.com/MIAD-Modelo-Datos/Recursos/main/Infraestructura%20visible/Etapa%201/{aeropuertos}')\n",
        "spark.sparkContext.addFile(f'https://raw.githubusercontent.com/MIAD-Modelo-Datos/Recursos/main/Infraestructura%20visible/Etapa%201/{vuelos}')"
      ],
      "execution_count": 6,
      "outputs": []
    },
    {
      "cell_type": "code",
      "metadata": {
        "id": "UKcpbJQyW_Ol"
      },
      "source": [
        "df_aeropuertos = spark.read.csv('file://'+SparkFiles.get(aeropuertos), header=True, inferSchema=True)\n",
        "df_vuelos = spark.read.csv('file://'+SparkFiles.get(vuelos), header=True, inferSchema=True)\n",
        "\n",
        "df_aeropuertos.createOrReplaceTempView(\"aeropuertos\")\n",
        "df_vuelos.createOrReplaceTempView(\"vuelos\")"
      ],
      "execution_count": 21,
      "outputs": []
    },
    {
      "cell_type": "markdown",
      "metadata": {
        "id": "VvNgxHuMx3tp"
      },
      "source": [
        "## Pregunta:\n",
        "Visualizar el número de pasajeros transportados en un rango de fechas de aeropuertos Internacionales a Colombia\n",
        "\n",
        "**Respuesta**: *No es posible responder a la pregunta, los conjuntos de datos no contienen información de vuelos entrantes al territorio Colombiano, sin embargo, es posible conocer el detalle de los pasajeros transportados desde y hacia aeropuertos Internacionales dentro del territorio nacional, adicionalmente, la granularidad disponible se encuentra a nivel de Año-Mes, lo que impide que se pueda realizar un análisis por fecha, se validó con la Aerocivil y dicha información no es de caracter publico.* \n",
        "[Datos abiertos Aerocivil](https://www.aerocivil.gov.co/atencion/transparencia/datos-abiertos)"
      ]
    },
    {
      "cell_type": "code",
      "metadata": {
        "colab": {
          "base_uri": "https://localhost:8080/"
        },
        "id": "pkRQ3fFly3eo",
        "outputId": "3c609030-638a-4c5d-b776-1513056d9811"
      },
      "source": [
        "# Pasajeros transportados desde aeropuertos internacionales en el territorio nacional por año y mes.\n",
        "spark.sql(\"select ano, mes, sum(pasajeros) pasajeros_transportados from vuelos v inner join aeropuertos a on v.origen = a.sigla where a.categoria = 'Internacional' and v.pasajeros >= 0 group by v.ano, v.mes\").show(10)"
      ],
      "execution_count": 35,
      "outputs": [
        {
          "output_type": "stream",
          "name": "stdout",
          "text": [
            "+----+---+-----------------------+\n",
            "| ano|mes|pasajeros_transportados|\n",
            "+----+---+-----------------------+\n",
            "|2012| 10|              2107605.0|\n",
            "|2010| 12|              2023021.0|\n",
            "|2010|  7|              1842447.0|\n",
            "|2013|  2|              1648071.0|\n",
            "|2012|  8|              1906273.0|\n",
            "|2012|  4|              1702058.0|\n",
            "|2012| 12|              2358191.0|\n",
            "|2013|  9|              1904437.0|\n",
            "|2013| 10|              2303307.0|\n",
            "|2013| 12|              1981243.0|\n",
            "+----+---+-----------------------+\n",
            "only showing top 10 rows\n",
            "\n"
          ]
        }
      ]
    },
    {
      "cell_type": "code",
      "metadata": {
        "colab": {
          "base_uri": "https://localhost:8080/"
        },
        "id": "NPqKeHRpz-ZQ",
        "outputId": "940cd503-d6f2-4b52-bc8f-3c1f735ace65"
      },
      "source": [
        "# Pasajeros transportados hacia aeropuertos internacionales en el territorio nacional por año y mes.\n",
        "spark.sql(\"select ano, mes, sum(pasajeros) pasajeros_transportados from vuelos v inner join aeropuertos a on v.destino = a.sigla where a.categoria = 'Internacional' and v.pasajeros >= 0 group by v.ano, v.mes\").show(10)"
      ],
      "execution_count": 36,
      "outputs": [
        {
          "output_type": "stream",
          "name": "stdout",
          "text": [
            "+----+---+-----------------------+\n",
            "| ano|mes|pasajeros_transportados|\n",
            "+----+---+-----------------------+\n",
            "|2012| 10|              2027717.0|\n",
            "|2010|  7|              1854910.0|\n",
            "|2010| 12|              1968860.0|\n",
            "|2012|  8|              1795754.0|\n",
            "|2013|  2|              1751075.0|\n",
            "|2012|  4|              1629414.0|\n",
            "|2012| 12|              2224497.0|\n",
            "|2013|  9|              1981828.0|\n",
            "|2013| 10|              2268371.0|\n",
            "|2013| 12|              2004059.0|\n",
            "+----+---+-----------------------+\n",
            "only showing top 10 rows\n",
            "\n"
          ]
        }
      ]
    },
    {
      "cell_type": "markdown",
      "metadata": {
        "id": "zeXVU8h30IFv"
      },
      "source": [
        "## Pregunta:\n",
        "***Visualizar la carga transportada en un rango de fechas de aeropuertos Internacionales a Colombia***\n",
        "\n",
        "**Respuesta**: *No es posible responder a la pregunta, los conjuntos de datos no contienen información de vuelos entrantes al territorio Colombiano, sin embargo, es posible conocer el detalle de la carga transportada desde y hacia aeropuertos Internacionales dentro del territorio nacional, adicionalmente, la granularidad disponible se encuentra a nivel de Año-Mes, lo que impide que se pueda realizar un análisis por fecha, se validó con la Aerocivil y dicha información no es de caracter publico.* \n",
        "[Datos abiertos Aerocivil](https://www.aerocivil.gov.co/atencion/transparencia/datos-abiertos)"
      ]
    },
    {
      "cell_type": "code",
      "metadata": {
        "colab": {
          "base_uri": "https://localhost:8080/"
        },
        "id": "qdOvV1Sk0VBZ",
        "outputId": "2c9d12f4-6b4a-496e-9ed3-2465f6aa5a4a"
      },
      "source": [
        "# Carga transportada desde aeropuertos internacionales en el territorio nacional por año y mes.\n",
        "spark.sql(\"select ano, mes, sum(carga_bordo) carga from vuelos v inner join aeropuertos a on v.origen = a.sigla where a.categoria = 'Internacional' and v.carga_bordo >= 0 group by v.ano, v.mes\").show(10)"
      ],
      "execution_count": 43,
      "outputs": [
        {
          "output_type": "stream",
          "name": "stdout",
          "text": [
            "+----+---+--------------------+\n",
            "| ano|mes|               carga|\n",
            "+----+---+--------------------+\n",
            "|2012| 10|1.0652734819999995E7|\n",
            "|2010|  7|          8999624.47|\n",
            "|2010| 12|       1.630879511E7|\n",
            "|2013|  2|   7831548.309999999|\n",
            "|2012|  8|   8871730.169999998|\n",
            "|2012|  4|1.0231764119999997E7|\n",
            "|2012| 12|1.3609474729999997E7|\n",
            "|2013|  9|1.5701067399999999E7|\n",
            "|2013| 10|1.5676513499999998E7|\n",
            "|2013| 12|       1.647605157E7|\n",
            "+----+---+--------------------+\n",
            "only showing top 10 rows\n",
            "\n"
          ]
        }
      ]
    },
    {
      "cell_type": "code",
      "metadata": {
        "colab": {
          "base_uri": "https://localhost:8080/"
        },
        "id": "aF1K4xMv0hb-",
        "outputId": "e5c4a37b-fd79-4658-e69d-92b30afd26da"
      },
      "source": [
        "# Carga transportada hacia aeropuertos internacionales en el territorio nacional por año y mes.\n",
        "spark.sql(\"select ano, mes, sum(carga_bordo) carga from vuelos v inner join aeropuertos a on v.destino = a.sigla where a.categoria = 'Internacional' and v.carga_bordo >= 0 group by v.ano, v.mes\").show(10)"
      ],
      "execution_count": 44,
      "outputs": [
        {
          "output_type": "stream",
          "name": "stdout",
          "text": [
            "+----+---+--------------------+\n",
            "| ano|mes|               carga|\n",
            "+----+---+--------------------+\n",
            "|2012| 10|   9094384.079999998|\n",
            "|2010|  7|          7420303.08|\n",
            "|2010| 12|1.3420641440000001E7|\n",
            "|2012|  8|   7153734.279999999|\n",
            "|2013|  2|   7196776.220000001|\n",
            "|2012|  4|   9038773.819999998|\n",
            "|2012| 12|1.1701853099999998E7|\n",
            "|2013|  9|1.4805132079999998E7|\n",
            "|2013| 10|1.2822389030000001E7|\n",
            "|2013| 12|       1.500696409E7|\n",
            "+----+---+--------------------+\n",
            "only showing top 10 rows\n",
            "\n"
          ]
        }
      ]
    },
    {
      "cell_type": "markdown",
      "metadata": {
        "id": "p_6wM2Xe0xZU"
      },
      "source": [
        "## Pregunta:\n",
        "***Visualizar la carga desaprovechada en un rango de fechas de aeropuertos Internacionales a Colombia***\n",
        "\n",
        "**Respuesta**: *No es posible responder a la pregunta, los conjuntos de datos no contienen información de vuelos entrantes al territorio Colombiano, sin embargo, es posible conocer el detalle de la carga desaprovechada desde y hacia aeropuertos Internacionales dentro del territorio nacional, adicionalmente, la granularidad disponible se encuentra a nivel de Año-Mes, lo que impide que se pueda realizar un análisis por fecha, se validó con la Aerocivil y dicha información no es de caracter publico.* \n",
        "[Datos abiertos Aerocivil](https://www.aerocivil.gov.co/atencion/transparencia/datos-abiertos)"
      ]
    },
    {
      "cell_type": "code",
      "metadata": {
        "colab": {
          "base_uri": "https://localhost:8080/"
        },
        "id": "o6ZpynBu1EV0",
        "outputId": "bea19e7a-c591-4dda-845d-f4f51e634c17"
      },
      "source": [
        "# Carga desaprovechada hacia aeropuertos internacionales en el territorio nacional por año y mes.\n",
        "spark.sql(\"select ano, mes, sum(carga_ofrecida - carga_bordo) carga_desaprovechada from vuelos v inner join aeropuertos a on v.destino = a.sigla where a.categoria = 'Internacional' and v.carga_ofrecida >= 0 group by v.ano, v.mes\").show(10)"
      ],
      "execution_count": 45,
      "outputs": [
        {
          "output_type": "stream",
          "name": "stdout",
          "text": [
            "+----+---+--------------------+\n",
            "| ano|mes|carga_desaprovechada|\n",
            "+----+---+--------------------+\n",
            "|2012| 10|1.2467720043999998E8|\n",
            "|2010|  7|       5.361381257E7|\n",
            "|2010| 12|      1.3593209244E8|\n",
            "|2012|  8| 9.274949392999999E7|\n",
            "|2013|  2| 8.566440394000001E7|\n",
            "|2012|  4| 8.837291497999999E7|\n",
            "|2012| 12|      1.1447950613E8|\n",
            "|2013|  9|       8.703813912E7|\n",
            "|2013| 10|1.1072354300999999E8|\n",
            "|2013| 12|1.1420259094000003E8|\n",
            "+----+---+--------------------+\n",
            "only showing top 10 rows\n",
            "\n"
          ]
        }
      ]
    },
    {
      "cell_type": "code",
      "metadata": {
        "colab": {
          "base_uri": "https://localhost:8080/"
        },
        "id": "6PshwYt-10RP",
        "outputId": "abbb30f2-fb64-4c76-81bf-ab0882d78de2"
      },
      "source": [
        "# Carga desaprovechada desde aeropuertos internacionales en el territorio nacional por año y mes.\n",
        "spark.sql(\"select ano, mes, sum(carga_ofrecida - carga_bordo) carga_desaprovechada from vuelos v inner join aeropuertos a on v.origen = a.sigla where a.categoria = 'Internacional' and v.carga_ofrecida >= 0 group by v.ano, v.mes\").show(10)"
      ],
      "execution_count": 46,
      "outputs": [
        {
          "output_type": "stream",
          "name": "stdout",
          "text": [
            "+----+---+--------------------+\n",
            "| ano|mes|carga_desaprovechada|\n",
            "+----+---+--------------------+\n",
            "|2012| 10|      1.2357486432E8|\n",
            "|2010|  7|       5.227463391E7|\n",
            "|2010| 12|1.1299611522999999E8|\n",
            "|2013|  2|       7.952276012E7|\n",
            "|2012|  8|       9.104578136E7|\n",
            "|2012|  4| 9.270638188999996E7|\n",
            "|2012| 12|       1.111906144E8|\n",
            "|2013|  9|       9.182402302E7|\n",
            "|2013| 10|1.0880657265999998E8|\n",
            "|2013| 12|1.0423506235000001E8|\n",
            "+----+---+--------------------+\n",
            "only showing top 10 rows\n",
            "\n"
          ]
        }
      ]
    },
    {
      "cell_type": "markdown",
      "metadata": {
        "id": "wZ2x2h4Q1_jK"
      },
      "source": [
        "## Pregunta:\n",
        "***Visualizar el número de puestos desaprovechados en un rango de fechas de aeropuertos Internacionales a Colombia***\n",
        "\n",
        "**Respuesta**: *No es posible responder a la pregunta, los conjuntos de datos no contienen información de vuelos entrantes al territorio Colombiano, sin embargo, es posible conocer el detalle de los puestos desaprovechados desde y hacia aeropuertos Internacionales dentro del territorio nacional, adicionalmente, la granularidad disponible se encuentra a nivel de Año-Mes, lo que impide que se pueda realizar un análisis por fecha, se validó con la Aerocivil y dicha información no es de caracter publico.* \n",
        "[Datos abiertos Aerocivil](https://www.aerocivil.gov.co/atencion/transparencia/datos-abiertos)"
      ]
    },
    {
      "cell_type": "code",
      "metadata": {
        "colab": {
          "base_uri": "https://localhost:8080/"
        },
        "id": "ncWIuNND2P4R",
        "outputId": "9e1c58c0-9d75-42c9-893c-0eb4e7659c8c"
      },
      "source": [
        "# Puestos desaprovechados desde aeropuertos internacionales en el territorio nacional por año y mes.\n",
        "spark.sql(\"select ano, mes, sum(sillas - pasajeros) puestos_desaprovechados from vuelos v inner join aeropuertos a on v.origen = a.sigla where a.categoria = 'Internacional' and v.sillas >= 0 and v.pasajeros >= 0 group by v.ano, v.mes\").show(10)"
      ],
      "execution_count": 48,
      "outputs": [
        {
          "output_type": "stream",
          "name": "stdout",
          "text": [
            "+----+---+-----------------------+\n",
            "| ano|mes|puestos_desaprovechados|\n",
            "+----+---+-----------------------+\n",
            "|2012| 10|               458819.0|\n",
            "|2010| 12|               419584.0|\n",
            "|2010|  7|               328342.0|\n",
            "|2013|  2|               357415.0|\n",
            "|2012|  8|               365439.0|\n",
            "|2012|  4|               564234.0|\n",
            "|2012| 12|               425236.0|\n",
            "|2013|  9|               366431.0|\n",
            "|2013| 10|               450551.0|\n",
            "|2013| 12|               351656.0|\n",
            "+----+---+-----------------------+\n",
            "only showing top 10 rows\n",
            "\n"
          ]
        }
      ]
    },
    {
      "cell_type": "code",
      "metadata": {
        "colab": {
          "base_uri": "https://localhost:8080/"
        },
        "id": "V90yeOci2irY",
        "outputId": "872354b2-1577-486f-956b-77b5dc553505"
      },
      "source": [
        "# Puestos desaprovechados hacia aeropuertos internacionales en el territorio nacional por año y mes.\n",
        "spark.sql(\"select ano, mes, sum(sillas - pasajeros) puestos_desaprovechados from vuelos v inner join aeropuertos a on v.destino = a.sigla where a.categoria = 'Internacional' and v.sillas >= 0 and v.pasajeros >= 0 group by v.ano, v.mes\").show(10)"
      ],
      "execution_count": 49,
      "outputs": [
        {
          "output_type": "stream",
          "name": "stdout",
          "text": [
            "+----+---+-----------------------+\n",
            "| ano|mes|puestos_desaprovechados|\n",
            "+----+---+-----------------------+\n",
            "|2012| 10|               441357.0|\n",
            "|2010|  7|               301175.0|\n",
            "|2010| 12|               562669.0|\n",
            "|2012|  8|               335900.0|\n",
            "|2013|  2|               355057.0|\n",
            "|2012|  4|               537719.0|\n",
            "|2012| 12|               514333.0|\n",
            "|2013|  9|               360373.0|\n",
            "|2013| 10|               432513.0|\n",
            "|2013| 12|               452507.0|\n",
            "+----+---+-----------------------+\n",
            "only showing top 10 rows\n",
            "\n"
          ]
        }
      ]
    },
    {
      "cell_type": "code",
      "metadata": {
        "colab": {
          "base_uri": "https://localhost:8080/"
        },
        "id": "BpCabmLj3Gu0",
        "outputId": "51dc4daf-f2fd-4647-d06a-09eab14557e1"
      },
      "source": [
        "spark.sql(\"select distinct categoria from aeropuertos\").show()"
      ],
      "execution_count": 50,
      "outputs": [
        {
          "output_type": "stream",
          "name": "stdout",
          "text": [
            "+-------------+\n",
            "|    categoria|\n",
            "+-------------+\n",
            "|     Nacional|\n",
            "|Internacional|\n",
            "|    Aeródromo|\n",
            "|     Regional|\n",
            "+-------------+\n",
            "\n"
          ]
        }
      ]
    },
    {
      "cell_type": "code",
      "metadata": {
        "colab": {
          "base_uri": "https://localhost:8080/"
        },
        "id": "xI6uE2jmeUDi",
        "outputId": "a3122c4d-73b4-42e4-fd4d-97178b685740"
      },
      "source": [
        "spark.sql(\"select * from aeropuertos where categoria = 'Internacional' limit 10\").show()"
      ],
      "execution_count": 23,
      "outputs": [
        {
          "output_type": "stream",
          "name": "stdout",
          "text": [
            "+---+-----+----+--------------------+-------------------+------------------+-------------+-------+--------+-----------+--------------------+--------------+-----------+----+---------+----------+------------------+--------------+-----+---------+--------------------+----------------+-------------+\n",
            "|_c0|sigla|iata|              nombre|          municipio|      departamento|    categoria|latitud|longitud|propietario|          explotador|longitud_pista|ancho_pista|pbmo|elevacion|resolucion|fecha_construccion|fecha_vigencia|clase|     tipo|numero_vuelos_origen|gcd_departamento|gcd_municipio|\n",
            "+---+-----+----+--------------------+-------------------+------------------+-------------+-------+--------+-----------+--------------------+--------------+-----------+----+---------+----------+------------------+--------------+-----+---------+--------------------+----------------+-------------+\n",
            "|274|  BOG| BOG|           EL DORADO|       Bogotá, D.C.|      Bogotá, D.C.|Internacional| 4.7017|-74.1469|  AEROCIVIL|  EN CONCESION CODAD|        3800.0|       60.0| nan|   8356.0|   320,000|        1999-12-09|           nan|   4E|Aerocivil|           1804153.0|              11|        11001|\n",
            "|344|  CUC| CUC|         CAMILO DAZA| San José de Cúcuta|Norte de Santander|Internacional| 7.9274|-72.5116|  AEROCIVIL|AEROCIVIL -ORIENT...|        1920.0|       45.0| nan|   1027.0|   984,000|        2013-04-28|           nan|   4D|Aerocivil|             91797.0|              54|        54001|\n",
            "|340|  CTG| CTG|        RAFAEL NUÑEZ|Cartagena de Indias|           Bolívar|Internacional| 10.442|-75.5123|  AEROCIVIL|     CONCESION-SACSA|        2380.0|       45.0| nan|      7.0|  4501,000|        2012-11-25|           nan|   4D|Aerocivil|            598113.0|              13|        13001|\n",
            "|615|  NVA| NVA|        BENITO SALAS|              Neiva|             Huila|Internacional| 2.9499|-75.2941|  AEROCIVIL|           AEROCIVIL|        1600.0|       40.0| nan|   1464.0|    57,000|        1990-10-30|           nan|   3C|Aerocivil|            433267.0|              41|        41001|\n",
            "|212|  ADZ| ADZ|GUSTAVO ROJAS PIN...|         San Andrés|  San Andrés islas|Internacional|12.5837|-81.7113|  AEROCIVIL|           AEROCIVIL|        2380.0|       36.0| nan|     18.0|   352,000|        1968-05-17|           nan|   4D|Aerocivil|             76692.0|              88|        88001|\n",
            "|274|  BOG| BOG|           EL DORADO|       Bogotá, D.C.|      Bogotá, D.C.|Internacional| 4.7017|-74.1469|  AEROCIVIL|  EN CONCESION CODAD|        3800.0|       60.0| nan|   8356.0|   320,000|        1959-12-04|           nan|   4E|Aerocivil|           1028334.0|              11|        11001|\n",
            "|317|  CLO| CLO|ALFONSO BONILLA A...|            Palmira|   Valle del Cauca|Internacional| 3.5431|-76.3817|  AEROCIVIL|CONCESION AEROCAL...|        3000.0|       45.0| nan|   3174.0|   984,000|        1987-02-02|           nan|   4E|Aerocivil|            207439.0|              76|        76520|\n",
            "|340|  CTG| CTG|        RAFAEL NUÑEZ|Cartagena de Indias|           Bolívar|Internacional| 10.442|-75.5123|  AEROCIVIL|     CONCESION-SACSA|        2380.0|       45.0| nan|      7.0|  4501,000|        2012-08-16|           nan|   4D|Aerocivil|            131998.0|              13|        13001|\n",
            "|344|  CUC| CUC|         CAMILO DAZA| San José de Cúcuta|Norte de Santander|Internacional| 7.9274|-72.5116|  AEROCIVIL|AEROCIVIL -ORIENT...|        1920.0|       45.0| nan|   1027.0|   984,000|        1987-02-02|           nan|   4D|Aerocivil|             72216.0|              54|        54001|\n",
            "|345|  CUC| CUC|    CAMILO DAZA No.2| San José de Cúcuta|Norte de Santander|Internacional| 7.9274|-72.5116|  AEROCIVIL|AEROCIVIL -ORIENT...|        2320.0|       45.0| nan|   1027.0|   984,000|        1987-02-02|           nan|   4A|Aerocivil|                 nan|              54|        54001|\n",
            "+---+-----+----+--------------------+-------------------+------------------+-------------+-------+--------+-----------+--------------------+--------------+-----------+----+---------+----------+------------------+--------------+-----+---------+--------------------+----------------+-------------+\n",
            "\n"
          ]
        }
      ]
    },
    {
      "cell_type": "code",
      "metadata": {
        "colab": {
          "base_uri": "https://localhost:8080/"
        },
        "id": "FLc_ZEWPsWwx",
        "outputId": "43329a1b-8a29-43d4-c7fa-325744639b7a"
      },
      "source": [
        "spark.sql(\"select * from vuelos limit 10\").show()"
      ],
      "execution_count": 27,
      "outputs": [
        {
          "output_type": "stream",
          "name": "stdout",
          "text": [
            "+----+---+------+-------+-----------+----------+-------+--------------------+------+------+--------------+---------+-----------+\n",
            "| ano|mes|origen|destino|tipo_equipo|tipo_vuelo|trafico|             empresa|vuelos|sillas|carga_ofrecida|pasajeros|carga_bordo|\n",
            "+----+---+------+-------+-----------+----------+-------+--------------------+------+------+--------------+---------+-----------+\n",
            "|2012|  1|   BOG|    CUC|       BE20|         T|      N|             RIO SUR|   1.0|   0.0|           0.0|      4.0|      100.0|\n",
            "|2013|  5|   UIB|    BOG|       DH8D|         R|      N|               AIRES|  30.0|1110.0|       24000.0|    873.0|     4222.0|\n",
            "|2013| 10|   IBE|    BOG|       DH8D|         R|      N|               AIRES|  98.0|3626.0|       56056.0|   2866.0|    2323.75|\n",
            "|2012|  4|   FLA|    BOG|       JS32|         T|      N|         SARPA S.A.S|   1.0|   0.0|           0.0|      4.0|        0.0|\n",
            "|2013|  7|   CUC|    AUC|       C402|         T|      N|AEROCHARTER ANDIN...|   1.0|   0.0|           0.0|      nan|      180.0|\n",
            "|2012|  3|   CUC|    OCV|       C303|         T|      N|AEROCHARTER ANDIN...|   6.0|   0.0|           0.0|      6.0|        0.0|\n",
            "|2013| 11|   7NS|    BOG|       B190|         T|      N|         SEARCA S.A.|   nan|   nan|           0.0|    149.0|      880.0|\n",
            "|2010|  6|   AUC|    TME|       C206|         T|      N|                SAER|   1.0|   0.0|           0.0|      2.0|       50.0|\n",
            "|2010|  4|   CLO|    BOG|       D328|         R|      N|SERVICIO AEREO A ...|   3.0|  96.0|        7078.5|      2.0|        0.0|\n",
            "|2013|  5|   BOG|    CLO|       JS32|         T|      N|         SARPA S.A.S|   1.0|   0.0|           0.0|     10.0|        0.0|\n",
            "+----+---+------+-------+-----------+----------+-------+--------------------+------+------+--------------+---------+-----------+\n",
            "\n"
          ]
        }
      ]
    }
  ]
}