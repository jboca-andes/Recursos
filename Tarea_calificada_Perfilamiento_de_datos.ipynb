{
  "nbformat": 4,
  "nbformat_minor": 0,
  "metadata": {
    "colab": {
      "name": "Tarea calificada: Perfilamiento de datos.ipynb",
      "provenance": [],
      "collapsed_sections": [],
      "authorship_tag": "ABX9TyPtVA1IGiWJurLuxB4cHGhk",
      "include_colab_link": true
    },
    "kernelspec": {
      "name": "python3",
      "display_name": "Python 3"
    },
    "language_info": {
      "name": "python"
    }
  },
  "cells": [
    {
      "cell_type": "markdown",
      "metadata": {
        "id": "view-in-github",
        "colab_type": "text"
      },
      "source": [
        "<a href=\"https://colab.research.google.com/github/jboca-andes/Recursos/blob/main/Tarea_calificada_Perfilamiento_de_datos.ipynb\" target=\"_parent\"><img src=\"https://colab.research.google.com/assets/colab-badge.svg\" alt=\"Open In Colab\"/></a>"
      ]
    },
    {
      "cell_type": "code",
      "metadata": {
        "id": "TsjzBxBqa6bG"
      },
      "source": [
        "!apt-get install openjdk-8-jdk-headless -qq > /dev/null\n",
        "!wget -q https://downloads.apache.org/spark/spark-3.2.0/spark-3.2.0-bin-hadoop2.7.tgz\n",
        "!tar xf spark-3.2.0-bin-hadoop2.7.tgz"
      ],
      "execution_count": 1,
      "outputs": []
    },
    {
      "cell_type": "code",
      "metadata": {
        "id": "XNp6AgJnXkRf"
      },
      "source": [
        "import os\n",
        "os.environ[\"JAVA_HOME\"] = \"/usr/lib/jvm/java-8-openjdk-amd64\"\n",
        "os.environ[\"SPARK_HOME\"] = \"/content/spark-3.2.0-bin-hadoop2.7\""
      ],
      "execution_count": 2,
      "outputs": []
    },
    {
      "cell_type": "code",
      "metadata": {
        "id": "j9SjCMmHbILG",
        "colab": {
          "base_uri": "https://localhost:8080/"
        },
        "outputId": "c66b513f-158b-4417-9049-de06329a92e5"
      },
      "source": [
        "!pip install -q findspark\n",
        "!pip install -q pyspark\n",
        "!pip install -q spark-df-profiling"
      ],
      "execution_count": 3,
      "outputs": [
        {
          "output_type": "stream",
          "name": "stdout",
          "text": [
            "\u001b[K     |████████████████████████████████| 281.3 MB 53 kB/s \n",
            "\u001b[K     |████████████████████████████████| 198 kB 68.5 MB/s \n",
            "\u001b[?25h  Building wheel for pyspark (setup.py) ... \u001b[?25l\u001b[?25hdone\n",
            "\u001b[K     |████████████████████████████████| 91 kB 6.4 MB/s \n",
            "\u001b[?25h"
          ]
        }
      ]
    },
    {
      "cell_type": "code",
      "metadata": {
        "id": "2_2buTHCbR7-"
      },
      "source": [
        "import findspark\n",
        "findspark.init()"
      ],
      "execution_count": 4,
      "outputs": []
    },
    {
      "cell_type": "code",
      "metadata": {
        "id": "wHQNFBDobJ2G"
      },
      "source": [
        "from pyspark.sql import SparkSession\n",
        "\n",
        "spark = SparkSession.builder\\\n",
        "        .master(\"local\")\\\n",
        "        .appName(\"Colab\")\\\n",
        "        .config('spark.ui.port', '4050')\\\n",
        "        .getOrCreate()"
      ],
      "execution_count": 5,
      "outputs": []
    },
    {
      "cell_type": "code",
      "metadata": {
        "id": "K4375DDxWcu-"
      },
      "source": [
        "aeropuertos = 'aeropuertos.csv'\n",
        "vuelos = 'vuelos.csv'\n",
        "from pyspark import SparkFiles\n",
        "spark.sparkContext.addFile(f'https://raw.githubusercontent.com/MIAD-Modelo-Datos/Recursos/main/Infraestructura%20visible/Etapa%201/{aeropuertos}')\n",
        "spark.sparkContext.addFile(f'https://raw.githubusercontent.com/MIAD-Modelo-Datos/Recursos/main/Infraestructura%20visible/Etapa%201/{vuelos}')"
      ],
      "execution_count": 6,
      "outputs": []
    },
    {
      "cell_type": "code",
      "metadata": {
        "id": "UKcpbJQyW_Ol"
      },
      "source": [
        "df_aeropuertos = spark.read.csv('file://'+SparkFiles.get(aeropuertos), header=True, inferSchema=True)\n",
        "df_vuelos = spark.read.csv('file://'+SparkFiles.get(vuelos), header=True, inferSchema=True)\n",
        "\n",
        "df_aeropuertos.createOrReplaceTempView(\"aeropuertos\")\n",
        "df_vuelos.createOrReplaceTempView(\"vuelos\")"
      ],
      "execution_count": 7,
      "outputs": []
    },
    {
      "cell_type": "code",
      "metadata": {
        "colab": {
          "base_uri": "https://localhost:8080/"
        },
        "id": "XaaUyhFD5J7z",
        "outputId": "2094cced-7cc1-4f09-c13d-4d7381f64275"
      },
      "source": [
        "df_aeropuertos.printSchema()\n",
        "df_vuelos.printSchema()"
      ],
      "execution_count": 8,
      "outputs": [
        {
          "output_type": "stream",
          "name": "stdout",
          "text": [
            "root\n",
            " |-- _c0: integer (nullable = true)\n",
            " |-- sigla: string (nullable = true)\n",
            " |-- iata: string (nullable = true)\n",
            " |-- nombre: string (nullable = true)\n",
            " |-- municipio: string (nullable = true)\n",
            " |-- departamento: string (nullable = true)\n",
            " |-- categoria: string (nullable = true)\n",
            " |-- latitud: double (nullable = true)\n",
            " |-- longitud: double (nullable = true)\n",
            " |-- propietario: string (nullable = true)\n",
            " |-- explotador: string (nullable = true)\n",
            " |-- longitud_pista: double (nullable = true)\n",
            " |-- ancho_pista: double (nullable = true)\n",
            " |-- pbmo: string (nullable = true)\n",
            " |-- elevacion: double (nullable = true)\n",
            " |-- resolucion: string (nullable = true)\n",
            " |-- fecha_construccion: string (nullable = true)\n",
            " |-- fecha_vigencia: string (nullable = true)\n",
            " |-- clase: string (nullable = true)\n",
            " |-- tipo: string (nullable = true)\n",
            " |-- numero_vuelos_origen: string (nullable = true)\n",
            " |-- gcd_departamento: integer (nullable = true)\n",
            " |-- gcd_municipio: integer (nullable = true)\n",
            "\n",
            "root\n",
            " |-- ano: integer (nullable = true)\n",
            " |-- mes: integer (nullable = true)\n",
            " |-- origen: string (nullable = true)\n",
            " |-- destino: string (nullable = true)\n",
            " |-- tipo_equipo: string (nullable = true)\n",
            " |-- tipo_vuelo: string (nullable = true)\n",
            " |-- trafico: string (nullable = true)\n",
            " |-- empresa: string (nullable = true)\n",
            " |-- vuelos: string (nullable = true)\n",
            " |-- sillas: string (nullable = true)\n",
            " |-- carga_ofrecida: double (nullable = true)\n",
            " |-- pasajeros: string (nullable = true)\n",
            " |-- carga_bordo: double (nullable = true)\n",
            "\n"
          ]
        }
      ]
    },
    {
      "cell_type": "code",
      "metadata": {
        "colab": {
          "base_uri": "https://localhost:8080/"
        },
        "id": "q4J1oYNR-wm3",
        "outputId": "a4688ada-2d0b-4a30-a376-3d01236a2513"
      },
      "source": [
        "spark.sql(\"select min(cast(UNIX_TIMESTAMP(fecha, 'MM/dd/yyyy') as timestamp)) desde, max(cast(UNIX_TIMESTAMP(fecha, 'MM/dd/yyyy') as timestamp)) hasta from  (select concat(case length(mes) when 1 then '0' else '' end, cast(mes as string),'/','01','/',cast(ano as string)) fecha from vuelos where mes>=0 and ano >=0)\").show()"
      ],
      "execution_count": 9,
      "outputs": [
        {
          "output_type": "stream",
          "name": "stdout",
          "text": [
            "+-------------------+-------------------+\n",
            "|              desde|              hasta|\n",
            "+-------------------+-------------------+\n",
            "|2010-01-01 00:00:00|2013-12-01 00:00:00|\n",
            "+-------------------+-------------------+\n",
            "\n"
          ]
        }
      ]
    },
    {
      "cell_type": "code",
      "metadata": {
        "id": "MYEPs-h2yWOF"
      },
      "source": [
        "spark.sql('''\n",
        "    select \n",
        "    sigla, iata, nombre, municipio, departamento, \n",
        "    categoria, cast(latitud as string) latitud, cast(longitud as string) longitud, \n",
        "    propietario, explotador, longitud_pista, ancho_pista, cast(pbmo as double) pbmo, \n",
        "    elevacion, resolucion, cast(fecha_construccion as date) fecha_construccion,\n",
        "    cast(fecha_vigencia as date) fecha_vigencia, clase, tipo, cast(numero_vuelos_origen as int) numero_vuelos_origen,\n",
        "    cast(gcd_departamento as string) gcd_departamento, cast(gcd_municipio as string) gcd_municipio\n",
        "    from aeropuertos\n",
        "''').createOrReplaceTempView(\"aeropuertos_ok\")\n",
        "\n",
        "\n",
        "spark.sql('''\n",
        "  select cast(ano as string) ano, cast(mes as string) mes, origen, destino, tipo_equipo, tipo_vuelo, trafico, empresa, \n",
        "  cast(vuelos as double) vuelos, cast(sillas as double) sillas, carga_ofrecida, cast(pasajeros as double) pasajeros, carga_bordo\n",
        "  from vuelos\n",
        "''').createOrReplaceTempView('vuelos_ok')"
      ],
      "execution_count": 10,
      "outputs": []
    },
    {
      "cell_type": "code",
      "metadata": {
        "colab": {
          "base_uri": "https://localhost:8080/"
        },
        "id": "DkVtIOLeA09p",
        "outputId": "f0f333d4-5424-4686-aa4e-ca606eccfea6"
      },
      "source": [
        "spark.sql(\"select * from vuelos_ok\").summary('count', 'mean', 'stddev', 'min', 'max').show()"
      ],
      "execution_count": 36,
      "outputs": [
        {
          "output_type": "stream",
          "name": "stdout",
          "text": [
            "+-------+------------------+-----------------+------+-------+------------------+----------+-------+--------------------+------+------+------------------+---------+------------------+\n",
            "|summary|               ano|              mes|origen|destino|       tipo_equipo|tipo_vuelo|trafico|             empresa|vuelos|sillas|    carga_ofrecida|pasajeros|       carga_bordo|\n",
            "+-------+------------------+-----------------+------+-------+------------------+----------+-------+--------------------+------+------+------------------+---------+------------------+\n",
            "|  count|             67599|            67599| 67599|  67599|             67599|     67599|  67599|               67599| 67599| 67599|             67599|    67599|             67599|\n",
            "|   mean|2011.5928637997604|6.674359088152191|  null|   null| 425.0409356725146|      null|    NaN|                null|   NaN|   NaN| 46758.48664891492|      NaN| 5325.677899968939|\n",
            "| stddev|1.1162151375421105|3.442955191548653|  null|   null|182.93161951904202|      null|    NaN|                null|   NaN|   NaN|230667.33670267835|      NaN|23415.901919555745|\n",
            "|    min|              2010|                1|   7FU|    7FU|               318|         A|      N| AER CARIBE LIMITADA|   1.0|   0.0|               0.0|      0.0|               0.0|\n",
            "|    max|              2013|                9|   ZPS|    VVC|              SR22|         T|    nan|VIAS AEREAS NACIO...|   NaN|   NaN|         7361385.0|      NaN|         1062015.0|\n",
            "+-------+------------------+-----------------+------+-------+------------------+----------+-------+--------------------+------+------+------------------+---------+------------------+\n",
            "\n"
          ]
        }
      ]
    },
    {
      "cell_type": "code",
      "metadata": {
        "colab": {
          "base_uri": "https://localhost:8080/"
        },
        "id": "ls2fP8mFBap5",
        "outputId": "d1f4699b-e6ab-4c70-f0a4-08b54453953a"
      },
      "source": [
        "spark.sql(\"select * from aeropuertos_ok\").summary('count', 'mean', 'stddev', 'min', 'max').show()"
      ],
      "execution_count": 35,
      "outputs": [
        {
          "output_type": "stream",
          "name": "stdout",
          "text": [
            "+-------+-----+----+---------+---------+------------+---------+------------------+------------------+-----------+----------+-----------------+------------------+-----+------------------+----------+-----+---------+--------------------+-----------------+------------------+\n",
            "|summary|sigla|iata|   nombre|municipio|departamento|categoria|           latitud|          longitud|propietario|explotador|   longitud_pista|       ancho_pista| pbmo|         elevacion|resolucion|clase|     tipo|numero_vuelos_origen| gcd_departamento|     gcd_municipio|\n",
            "+-------+-----+----+---------+---------+------------+---------+------------------+------------------+-----------+----------+-----------------+------------------+-----+------------------+----------+-----+---------+--------------------+-----------------+------------------+\n",
            "|  count|  292| 292|      292|      292|         292|      292|               292|               292|        292|       292|              292|               292|  292|               292|       292|  292|      292|                 221|              292|               292|\n",
            "|   mean| null| NaN|     null|     null|        null|     null| 5.543335616438355|-73.24611404109585|        NaN|      null| 962.445205479452|17.633561643835616|  NaN|1073.3082191780823|       NaN|  4.0|     null|  185576.36199095022|63.03767123287671| 63341.63698630137|\n",
            "| stddev| null| NaN|     null|     null|        null|     null|2.3826685454671885|2.2960739088619917|        NaN|      null|540.0191104015921|10.356164406912008|  NaN|1580.8586233906904|       NaN|  0.0|     null|   312190.2079185864|27.46134963485643|27463.258042601276|\n",
            "|    min|  7FU| ACD| ACAPULCO|  Acacías|   Antioquia|Aeródromo|           -0.6008|          -67.0776|  AEROCIVIL| AEROCIVIL|            200.0|              10.0|400.0|               0.0|     2,279|   0B|Aerocivil|                   1|               11|             11001|\n",
            "|    max|  ZPS| nan|YARIGUIES| Zapatoca|     Vichada| Regional|             9.968|          -81.7113|        nan|TAES LTDA.|           3800.0|              75.0|  NaN|            9740.0|       nan|   UL|  Público|             1804153|               99|             99773|\n",
            "+-------+-----+----+---------+---------+------------+---------+------------------+------------------+-----------+----------+-----------------+------------------+-----+------------------+----------+-----+---------+--------------------+-----------------+------------------+\n",
            "\n"
          ]
        }
      ]
    },
    {
      "cell_type": "code",
      "metadata": {
        "colab": {
          "base_uri": "https://localhost:8080/"
        },
        "id": "Mb7WaelG47Ek",
        "outputId": "c0a5dd64-e891-45ed-dcab-6e1bf2c4c3af"
      },
      "source": [
        "spark.sql('select count(sigla) from aeropuertos_ok').show()"
      ],
      "execution_count": 12,
      "outputs": [
        {
          "output_type": "stream",
          "name": "stdout",
          "text": [
            "+------------+\n",
            "|count(sigla)|\n",
            "+------------+\n",
            "|         292|\n",
            "+------------+\n",
            "\n"
          ]
        }
      ]
    },
    {
      "cell_type": "markdown",
      "metadata": {
        "id": "VvNgxHuMx3tp"
      },
      "source": [
        "## Pregunta:\n",
        "Visualizar el número de pasajeros transportados en un rango de fechas de aeropuertos Internacionales a Colombia\n",
        "\n",
        "**Respuesta**: *No es posible responder a la pregunta, los conjuntos de datos no contienen información de vuelos entrantes al territorio Colombiano, sin embargo, es posible conocer el detalle de los pasajeros transportados desde y hacia aeropuertos Internacionales dentro del territorio nacional, adicionalmente, la granularidad disponible se encuentra a nivel de Año-Mes, lo que impide que se pueda realizar un análisis por fecha, se validó con la Aerocivil y dicha información no es de caracter publico.* \n",
        "[Datos abiertos Aerocivil](https://www.aerocivil.gov.co/atencion/transparencia/datos-abiertos)"
      ]
    },
    {
      "cell_type": "code",
      "metadata": {
        "colab": {
          "base_uri": "https://localhost:8080/"
        },
        "id": "pkRQ3fFly3eo",
        "outputId": "01cc5356-1cc7-4fde-aea0-eb7a21dc4e5b"
      },
      "source": [
        "# Pasajeros transportados desde aeropuertos internacionales en el territorio nacional por año y mes.\n",
        "spark.sql(\"select ano, mes, sum(pasajeros) pasajeros_transportados from vuelos v inner join aeropuertos a on v.origen = a.sigla where a.categoria = 'Internacional' and v.pasajeros >= 0 group by v.ano, v.mes\").show(10)"
      ],
      "execution_count": 13,
      "outputs": [
        {
          "output_type": "stream",
          "name": "stdout",
          "text": [
            "+----+---+-----------------------+\n",
            "| ano|mes|pasajeros_transportados|\n",
            "+----+---+-----------------------+\n",
            "|2012| 10|              2107605.0|\n",
            "|2010| 12|              2023021.0|\n",
            "|2010|  7|              1842447.0|\n",
            "|2013|  2|              1648071.0|\n",
            "|2012|  8|              1906273.0|\n",
            "|2012|  4|              1702058.0|\n",
            "|2012| 12|              2358191.0|\n",
            "|2013|  9|              1904437.0|\n",
            "|2013| 10|              2303307.0|\n",
            "|2013| 12|              1981243.0|\n",
            "+----+---+-----------------------+\n",
            "only showing top 10 rows\n",
            "\n"
          ]
        }
      ]
    },
    {
      "cell_type": "code",
      "metadata": {
        "colab": {
          "base_uri": "https://localhost:8080/"
        },
        "id": "NPqKeHRpz-ZQ",
        "outputId": "fa4b12fc-331c-4214-bc14-a544dc36d780"
      },
      "source": [
        "# Pasajeros transportados hacia aeropuertos internacionales en el territorio nacional por año y mes.\n",
        "spark.sql(\"select ano, mes, sum(pasajeros) pasajeros_transportados from vuelos v inner join aeropuertos a on v.destino = a.sigla where a.categoria = 'Internacional' and v.pasajeros >= 0 group by v.ano, v.mes\").show(10)"
      ],
      "execution_count": 14,
      "outputs": [
        {
          "output_type": "stream",
          "name": "stdout",
          "text": [
            "+----+---+-----------------------+\n",
            "| ano|mes|pasajeros_transportados|\n",
            "+----+---+-----------------------+\n",
            "|2012| 10|              2027717.0|\n",
            "|2010|  7|              1854910.0|\n",
            "|2010| 12|              1968860.0|\n",
            "|2012|  8|              1795754.0|\n",
            "|2013|  2|              1751075.0|\n",
            "|2012|  4|              1629414.0|\n",
            "|2012| 12|              2224497.0|\n",
            "|2013|  9|              1981828.0|\n",
            "|2013| 10|              2268371.0|\n",
            "|2013| 12|              2004059.0|\n",
            "+----+---+-----------------------+\n",
            "only showing top 10 rows\n",
            "\n"
          ]
        }
      ]
    },
    {
      "cell_type": "markdown",
      "metadata": {
        "id": "zeXVU8h30IFv"
      },
      "source": [
        "## Pregunta:\n",
        "***Visualizar la carga transportada en un rango de fechas de aeropuertos Internacionales a Colombia***\n",
        "\n",
        "**Respuesta**: *No es posible responder a la pregunta, los conjuntos de datos no contienen información de vuelos entrantes al territorio Colombiano, sin embargo, es posible conocer el detalle de la carga transportada desde y hacia aeropuertos Internacionales dentro del territorio nacional, adicionalmente, la granularidad disponible se encuentra a nivel de Año-Mes, lo que impide que se pueda realizar un análisis por fecha, se validó con la Aerocivil y dicha información no es de caracter publico.* \n",
        "[Datos abiertos Aerocivil](https://www.aerocivil.gov.co/atencion/transparencia/datos-abiertos)"
      ]
    },
    {
      "cell_type": "code",
      "metadata": {
        "colab": {
          "base_uri": "https://localhost:8080/"
        },
        "id": "qdOvV1Sk0VBZ",
        "outputId": "3b7451e6-7102-499d-f2f6-8aec2bfb801b"
      },
      "source": [
        "# Carga transportada desde aeropuertos internacionales en el territorio nacional por año y mes.\n",
        "spark.sql(\"select ano, mes, sum(carga_bordo) carga from vuelos v inner join aeropuertos a on v.origen = a.sigla where a.categoria = 'Internacional' and v.carga_bordo >= 0 group by v.ano, v.mes\").show(10)"
      ],
      "execution_count": 15,
      "outputs": [
        {
          "output_type": "stream",
          "name": "stdout",
          "text": [
            "+----+---+--------------------+\n",
            "| ano|mes|               carga|\n",
            "+----+---+--------------------+\n",
            "|2012| 10|1.0652734819999995E7|\n",
            "|2010|  7|          8999624.47|\n",
            "|2010| 12|       1.630879511E7|\n",
            "|2013|  2|   7831548.309999999|\n",
            "|2012|  8|   8871730.169999998|\n",
            "|2012|  4|1.0231764119999997E7|\n",
            "|2012| 12|1.3609474729999997E7|\n",
            "|2013|  9|1.5701067399999999E7|\n",
            "|2013| 10|1.5676513499999998E7|\n",
            "|2013| 12|       1.647605157E7|\n",
            "+----+---+--------------------+\n",
            "only showing top 10 rows\n",
            "\n"
          ]
        }
      ]
    },
    {
      "cell_type": "code",
      "metadata": {
        "colab": {
          "base_uri": "https://localhost:8080/"
        },
        "id": "aF1K4xMv0hb-",
        "outputId": "b1a228e3-0ffe-4a92-f473-b094e530ae24"
      },
      "source": [
        "# Carga transportada hacia aeropuertos internacionales en el territorio nacional por año y mes.\n",
        "spark.sql(\"select ano, mes, sum(carga_bordo) carga from vuelos v inner join aeropuertos a on v.destino = a.sigla where a.categoria = 'Internacional' and v.carga_bordo >= 0 group by v.ano, v.mes\").show(10)"
      ],
      "execution_count": 16,
      "outputs": [
        {
          "output_type": "stream",
          "name": "stdout",
          "text": [
            "+----+---+--------------------+\n",
            "| ano|mes|               carga|\n",
            "+----+---+--------------------+\n",
            "|2012| 10|   9094384.079999998|\n",
            "|2010|  7|          7420303.08|\n",
            "|2010| 12|1.3420641440000001E7|\n",
            "|2012|  8|   7153734.279999999|\n",
            "|2013|  2|   7196776.220000001|\n",
            "|2012|  4|   9038773.819999998|\n",
            "|2012| 12|1.1701853099999998E7|\n",
            "|2013|  9|1.4805132079999998E7|\n",
            "|2013| 10|1.2822389030000001E7|\n",
            "|2013| 12|       1.500696409E7|\n",
            "+----+---+--------------------+\n",
            "only showing top 10 rows\n",
            "\n"
          ]
        }
      ]
    },
    {
      "cell_type": "markdown",
      "metadata": {
        "id": "p_6wM2Xe0xZU"
      },
      "source": [
        "## Pregunta:\n",
        "***Visualizar la carga desaprovechada en un rango de fechas de aeropuertos Internacionales a Colombia***\n",
        "\n",
        "**Respuesta**: *No es posible responder a la pregunta, los conjuntos de datos no contienen información de vuelos entrantes al territorio Colombiano, sin embargo, es posible conocer el detalle de la carga desaprovechada desde y hacia aeropuertos Internacionales dentro del territorio nacional, adicionalmente, la granularidad disponible se encuentra a nivel de Año-Mes, lo que impide que se pueda realizar un análisis por fecha, se validó con la Aerocivil y dicha información no es de caracter publico.* \n",
        "[Datos abiertos Aerocivil](https://www.aerocivil.gov.co/atencion/transparencia/datos-abiertos)"
      ]
    },
    {
      "cell_type": "code",
      "metadata": {
        "colab": {
          "base_uri": "https://localhost:8080/"
        },
        "id": "o6ZpynBu1EV0",
        "outputId": "c9c7ded5-ce3e-4e99-dafb-88565df0d986"
      },
      "source": [
        "# Carga desaprovechada hacia aeropuertos internacionales en el territorio nacional por año y mes.\n",
        "spark.sql(\"select ano, mes, sum(carga_ofrecida - carga_bordo) carga_desaprovechada from vuelos v inner join aeropuertos a on v.destino = a.sigla where a.categoria = 'Internacional' and v.carga_ofrecida >= 0 group by v.ano, v.mes\").show(10)"
      ],
      "execution_count": 17,
      "outputs": [
        {
          "output_type": "stream",
          "name": "stdout",
          "text": [
            "+----+---+--------------------+\n",
            "| ano|mes|carga_desaprovechada|\n",
            "+----+---+--------------------+\n",
            "|2012| 10|1.2467720043999998E8|\n",
            "|2010|  7|       5.361381257E7|\n",
            "|2010| 12|      1.3593209244E8|\n",
            "|2012|  8| 9.274949392999999E7|\n",
            "|2013|  2| 8.566440394000001E7|\n",
            "|2012|  4| 8.837291497999999E7|\n",
            "|2012| 12|      1.1447950613E8|\n",
            "|2013|  9|       8.703813912E7|\n",
            "|2013| 10|1.1072354300999999E8|\n",
            "|2013| 12|1.1420259094000003E8|\n",
            "+----+---+--------------------+\n",
            "only showing top 10 rows\n",
            "\n"
          ]
        }
      ]
    },
    {
      "cell_type": "code",
      "metadata": {
        "colab": {
          "base_uri": "https://localhost:8080/"
        },
        "id": "6PshwYt-10RP",
        "outputId": "7964e97b-65b5-4c54-ab83-5a1af6f0eb1f"
      },
      "source": [
        "# Carga desaprovechada desde aeropuertos internacionales en el territorio nacional por año y mes.\n",
        "spark.sql(\"select ano, mes, sum(carga_ofrecida - carga_bordo) carga_desaprovechada from vuelos v inner join aeropuertos a on v.origen = a.sigla where a.categoria = 'Internacional' and v.carga_ofrecida >= 0 group by v.ano, v.mes\").show(10)"
      ],
      "execution_count": 18,
      "outputs": [
        {
          "output_type": "stream",
          "name": "stdout",
          "text": [
            "+----+---+--------------------+\n",
            "| ano|mes|carga_desaprovechada|\n",
            "+----+---+--------------------+\n",
            "|2012| 10|      1.2357486432E8|\n",
            "|2010|  7|       5.227463391E7|\n",
            "|2010| 12|1.1299611522999999E8|\n",
            "|2013|  2|       7.952276012E7|\n",
            "|2012|  8|       9.104578136E7|\n",
            "|2012|  4| 9.270638188999996E7|\n",
            "|2012| 12|       1.111906144E8|\n",
            "|2013|  9|       9.182402302E7|\n",
            "|2013| 10|1.0880657265999998E8|\n",
            "|2013| 12|1.0423506235000001E8|\n",
            "+----+---+--------------------+\n",
            "only showing top 10 rows\n",
            "\n"
          ]
        }
      ]
    },
    {
      "cell_type": "markdown",
      "metadata": {
        "id": "wZ2x2h4Q1_jK"
      },
      "source": [
        "## Pregunta:\n",
        "***Visualizar el número de puestos desaprovechados en un rango de fechas de aeropuertos Internacionales a Colombia***\n",
        "\n",
        "**Respuesta**: *No es posible responder a la pregunta, los conjuntos de datos no contienen información de vuelos entrantes al territorio Colombiano, sin embargo, es posible conocer el detalle de los puestos desaprovechados desde y hacia aeropuertos Internacionales dentro del territorio nacional, adicionalmente, la granularidad disponible se encuentra a nivel de Año-Mes, lo que impide que se pueda realizar un análisis por fecha, se validó con la Aerocivil y dicha información no es de caracter publico.* \n",
        "[Datos abiertos Aerocivil](https://www.aerocivil.gov.co/atencion/transparencia/datos-abiertos)"
      ]
    },
    {
      "cell_type": "code",
      "metadata": {
        "colab": {
          "base_uri": "https://localhost:8080/"
        },
        "id": "ncWIuNND2P4R",
        "outputId": "92c9d583-4469-41d1-b4c2-3a9439539e37"
      },
      "source": [
        "# Puestos desaprovechados desde aeropuertos internacionales en el territorio nacional por año y mes.\n",
        "spark.sql(\"select ano, mes, sum(sillas - pasajeros) puestos_desaprovechados from vuelos v inner join aeropuertos a on v.origen = a.sigla where a.categoria = 'Internacional' and v.sillas >= 0 and v.pasajeros >= 0 group by v.ano, v.mes\").show(10)"
      ],
      "execution_count": 19,
      "outputs": [
        {
          "output_type": "stream",
          "name": "stdout",
          "text": [
            "+----+---+-----------------------+\n",
            "| ano|mes|puestos_desaprovechados|\n",
            "+----+---+-----------------------+\n",
            "|2012| 10|               458819.0|\n",
            "|2010| 12|               419584.0|\n",
            "|2010|  7|               328342.0|\n",
            "|2013|  2|               357415.0|\n",
            "|2012|  8|               365439.0|\n",
            "|2012|  4|               564234.0|\n",
            "|2012| 12|               425236.0|\n",
            "|2013|  9|               366431.0|\n",
            "|2013| 10|               450551.0|\n",
            "|2013| 12|               351656.0|\n",
            "+----+---+-----------------------+\n",
            "only showing top 10 rows\n",
            "\n"
          ]
        }
      ]
    },
    {
      "cell_type": "code",
      "metadata": {
        "colab": {
          "base_uri": "https://localhost:8080/"
        },
        "id": "V90yeOci2irY",
        "outputId": "c9b0a2db-c2b5-45a2-b9b7-310231ca34b7"
      },
      "source": [
        "# Puestos desaprovechados hacia aeropuertos internacionales en el territorio nacional por año y mes.\n",
        "spark.sql(\"select ano, mes, sum(sillas - pasajeros) puestos_desaprovechados from vuelos v inner join aeropuertos a on v.destino = a.sigla where a.categoria = 'Internacional' and v.sillas >= 0 and v.pasajeros >= 0 group by v.ano, v.mes\").show(10)"
      ],
      "execution_count": 20,
      "outputs": [
        {
          "output_type": "stream",
          "name": "stdout",
          "text": [
            "+----+---+-----------------------+\n",
            "| ano|mes|puestos_desaprovechados|\n",
            "+----+---+-----------------------+\n",
            "|2012| 10|               441357.0|\n",
            "|2010|  7|               301175.0|\n",
            "|2010| 12|               562669.0|\n",
            "|2012|  8|               335900.0|\n",
            "|2013|  2|               355057.0|\n",
            "|2012|  4|               537719.0|\n",
            "|2012| 12|               514333.0|\n",
            "|2013|  9|               360373.0|\n",
            "|2013| 10|               432513.0|\n",
            "|2013| 12|               452507.0|\n",
            "+----+---+-----------------------+\n",
            "only showing top 10 rows\n",
            "\n"
          ]
        }
      ]
    },
    {
      "cell_type": "code",
      "metadata": {
        "colab": {
          "base_uri": "https://localhost:8080/"
        },
        "id": "BpCabmLj3Gu0",
        "outputId": "0ea65194-6440-422d-c796-16afedab0a04"
      },
      "source": [
        "spark.sql(\"select distinct categoria from aeropuertos\").show()"
      ],
      "execution_count": 21,
      "outputs": [
        {
          "output_type": "stream",
          "name": "stdout",
          "text": [
            "+-------------+\n",
            "|    categoria|\n",
            "+-------------+\n",
            "|     Nacional|\n",
            "|Internacional|\n",
            "|    Aeródromo|\n",
            "|     Regional|\n",
            "+-------------+\n",
            "\n"
          ]
        }
      ]
    },
    {
      "cell_type": "code",
      "metadata": {
        "colab": {
          "base_uri": "https://localhost:8080/"
        },
        "id": "xI6uE2jmeUDi",
        "outputId": "58c43bc9-637d-40e8-a82c-4603b0aeb07a"
      },
      "source": [
        "spark.sql(\"select * from aeropuertos where iata<>sigla limit 10\").show()"
      ],
      "execution_count": 22,
      "outputs": [
        {
          "output_type": "stream",
          "name": "stdout",
          "text": [
            "+---+-----+----+----------------+--------------------+------------+---------+-------+--------+--------------------+--------------------+--------------+-----------+-------+---------+----------+------------------+--------------+-----+----------+--------------------+----------------+-------------+\n",
            "|_c0|sigla|iata|          nombre|           municipio|departamento|categoria|latitud|longitud|         propietario|          explotador|longitud_pista|ancho_pista|   pbmo|elevacion|resolucion|fecha_construccion|fecha_vigencia|clase|      tipo|numero_vuelos_origen|gcd_departamento|gcd_municipio|\n",
            "+---+-----+----+----------------+--------------------+------------+---------+-------+--------+--------------------+--------------------+--------------+-----------+-------+---------+----------+------------------+--------------+-----+----------+--------------------+----------------+-------------+\n",
            "|134|  9DG| nan|    EL LAGO - CA|             Piedras|      Tolima|Aeródromo| 4.5575|-74.9003|    BERNEY RODRIGUEZ|OSMANI RODRIGUEZ ...|         350.0|       10.0|  500.0|   1050.0|  6744,000|        2016-12-17|           nan|   UL|   Privado|            479797.0|              73|        73547|\n",
            "|174|  9MK| nan|  VILLA ISABELLA|            Trinidad|    Casanare|Aeródromo| 5.2993|-71.3434|      RAFAEL QUESADA|          TAES LTDA.|         800.0|       10.0| 2000.0|    620.0|  4313,000|        2018-10-31|           nan|   1A|Fumigación|            493950.0|              85|        85430|\n",
            "| 92|  9BE| nan|       LAS VEGAS|      Paz de Ariporo|    Casanare|Aeródromo| 6.0072|-71.2842|ALEIDA JERONIMO N...|ALEIDA JERONIMO N...|         740.0|       15.0| 3500.0|    430.0|  1657,000|        2016-11-10|           nan|   1A|   Privado|            462527.0|              85|        85250|\n",
            "|860|  YPP| nan|  GERMAN ALBERTO|               Yopal|    Casanare|Aeródromo| 5.1875|-72.3191|JOSE NELSON PEREZ R.|         CELTA LTDA.|         800.0|       15.0| 2000.0|    735.0|  4511,000|        2018-11-25|    2018-11-10|   1A|Fumigación|             45537.0|              85|        85001|\n",
            "|855|  VVU| nan|    SANTA ISABEL|       Villavicencio|        Meta|Aeródromo| 3.9873|-73.2091|           EFA LTDA.|           EFA LTDA.|         800.0|       10.0| 2000.0|    689.0|  2634,000|        2018-11-27|           nan|   1A|Fumigación|            119198.0|              50|        50001|\n",
            "| 10|  7GD| nan|       VELASQUEZ|       Puerto Boyacá|      Boyacá|Aeródromo| 5.9482|-74.4575|                 FAC|          MANSAROVAR|        1500.0|       18.0|10000.0|    617.0|  2135,000|        2016-11-25|           nan|   3C|   Privado|            987668.0|              15|        15572|\n",
            "|178|  9MO| nan|     SAN NICOLAS|           Tauramena|    Casanare|Aeródromo| 4.4703|-72.4575| CARLOS E. CONTRERAS|          ASAM LTDA.|         840.0|       10.0| 2000.0|    585.0|  4510,000|        2012-08-22|           nan|   1A|Fumigación|            244452.0|              85|        85410|\n",
            "|797|  TCO| nan|      LA FLORIDA|San Andrés de Tumaco|      Nariño| Nacional| 1.8144| -78.749|           AEROCIVIL|           AEROCIVIL|        1600.0|       30.0|    nan|     10.0|   455,000|        1973-11-19|           nan|   3C| Aerocivil|            596754.0|              52|        52835|\n",
            "| 75|  9AJ| nan|SAN LUIS DE PACA|                Mitú|      Vaupés|Aeródromo| 0.8744|-70.3464|  RESGUARDO INDIGENA|GOBERNACION DEL V...|         424.0|       10.0| 1650.0|    590.0|  3423,000|        2011-09-19|           nan|   1A|   Público|            186305.0|              97|        97001|\n",
            "|203|  A03| nan|          FORTUL|              Fortul|      Arauca|Aeródromo| 6.7817|-71.7791|         GOBERNACION|           MUNICIPIO|         700.0|       13.0| 4000.0|    730.0|  2036,000|        2014-11-29|           nan|   1A|   Público|            575874.0|              81|        81300|\n",
            "+---+-----+----+----------------+--------------------+------------+---------+-------+--------+--------------------+--------------------+--------------+-----------+-------+---------+----------+------------------+--------------+-----+----------+--------------------+----------------+-------------+\n",
            "\n"
          ]
        }
      ]
    },
    {
      "cell_type": "code",
      "metadata": {
        "colab": {
          "base_uri": "https://localhost:8080/"
        },
        "id": "FLc_ZEWPsWwx",
        "outputId": "053fc1e4-5e30-4dfb-d63f-ec4604c94bb8"
      },
      "source": [
        "spark.sql(\"select * from vuelos limit 10\").show()"
      ],
      "execution_count": 23,
      "outputs": [
        {
          "output_type": "stream",
          "name": "stdout",
          "text": [
            "+----+---+------+-------+-----------+----------+-------+--------------------+------+------+--------------+---------+-----------+\n",
            "| ano|mes|origen|destino|tipo_equipo|tipo_vuelo|trafico|             empresa|vuelos|sillas|carga_ofrecida|pasajeros|carga_bordo|\n",
            "+----+---+------+-------+-----------+----------+-------+--------------------+------+------+--------------+---------+-----------+\n",
            "|2012|  1|   BOG|    CUC|       BE20|         T|      N|             RIO SUR|   1.0|   0.0|           0.0|      4.0|      100.0|\n",
            "|2013|  5|   UIB|    BOG|       DH8D|         R|      N|               AIRES|  30.0|1110.0|       24000.0|    873.0|     4222.0|\n",
            "|2013| 10|   IBE|    BOG|       DH8D|         R|      N|               AIRES|  98.0|3626.0|       56056.0|   2866.0|    2323.75|\n",
            "|2012|  4|   FLA|    BOG|       JS32|         T|      N|         SARPA S.A.S|   1.0|   0.0|           0.0|      4.0|        0.0|\n",
            "|2013|  7|   CUC|    AUC|       C402|         T|      N|AEROCHARTER ANDIN...|   1.0|   0.0|           0.0|      nan|      180.0|\n",
            "|2012|  3|   CUC|    OCV|       C303|         T|      N|AEROCHARTER ANDIN...|   6.0|   0.0|           0.0|      6.0|        0.0|\n",
            "|2013| 11|   7NS|    BOG|       B190|         T|      N|         SEARCA S.A.|   nan|   nan|           0.0|    149.0|      880.0|\n",
            "|2010|  6|   AUC|    TME|       C206|         T|      N|                SAER|   1.0|   0.0|           0.0|      2.0|       50.0|\n",
            "|2010|  4|   CLO|    BOG|       D328|         R|      N|SERVICIO AEREO A ...|   3.0|  96.0|        7078.5|      2.0|        0.0|\n",
            "|2013|  5|   BOG|    CLO|       JS32|         T|      N|         SARPA S.A.S|   1.0|   0.0|           0.0|     10.0|        0.0|\n",
            "+----+---+------+-------+-----------+----------+-------+--------------------+------+------+--------------+---------+-----------+\n",
            "\n"
          ]
        }
      ]
    },
    {
      "cell_type": "code",
      "metadata": {
        "colab": {
          "base_uri": "https://localhost:8080/",
          "height": 294
        },
        "id": "xlzMPgGI94qL",
        "outputId": "34568ef4-fcc8-4daf-ef3f-3d12a47043e0"
      },
      "source": [
        "df_aeropuertos.selectExpr(\"longitud_pista\", \"ancho_pista\", \"cast(pbmo as int) pbmo\", \"elevacion\", \"cast(numero_vuelos_origen as int) numero_vuelos_origen\").toPandas().describe()"
      ],
      "execution_count": 24,
      "outputs": [
        {
          "output_type": "execute_result",
          "data": {
            "text/html": [
              "<div>\n",
              "<style scoped>\n",
              "    .dataframe tbody tr th:only-of-type {\n",
              "        vertical-align: middle;\n",
              "    }\n",
              "\n",
              "    .dataframe tbody tr th {\n",
              "        vertical-align: top;\n",
              "    }\n",
              "\n",
              "    .dataframe thead th {\n",
              "        text-align: right;\n",
              "    }\n",
              "</style>\n",
              "<table border=\"1\" class=\"dataframe\">\n",
              "  <thead>\n",
              "    <tr style=\"text-align: right;\">\n",
              "      <th></th>\n",
              "      <th>longitud_pista</th>\n",
              "      <th>ancho_pista</th>\n",
              "      <th>pbmo</th>\n",
              "      <th>elevacion</th>\n",
              "      <th>numero_vuelos_origen</th>\n",
              "    </tr>\n",
              "  </thead>\n",
              "  <tbody>\n",
              "    <tr>\n",
              "      <th>count</th>\n",
              "      <td>292.000000</td>\n",
              "      <td>292.000000</td>\n",
              "      <td>237.000000</td>\n",
              "      <td>292.000000</td>\n",
              "      <td>2.210000e+02</td>\n",
              "    </tr>\n",
              "    <tr>\n",
              "      <th>mean</th>\n",
              "      <td>962.445205</td>\n",
              "      <td>17.633562</td>\n",
              "      <td>5683.341772</td>\n",
              "      <td>1073.308219</td>\n",
              "      <td>1.855764e+05</td>\n",
              "    </tr>\n",
              "    <tr>\n",
              "      <th>std</th>\n",
              "      <td>540.019110</td>\n",
              "      <td>10.356164</td>\n",
              "      <td>9669.194412</td>\n",
              "      <td>1580.858623</td>\n",
              "      <td>3.121902e+05</td>\n",
              "    </tr>\n",
              "    <tr>\n",
              "      <th>min</th>\n",
              "      <td>200.000000</td>\n",
              "      <td>10.000000</td>\n",
              "      <td>400.000000</td>\n",
              "      <td>0.000000</td>\n",
              "      <td>1.000000e+00</td>\n",
              "    </tr>\n",
              "    <tr>\n",
              "      <th>25%</th>\n",
              "      <td>700.000000</td>\n",
              "      <td>10.000000</td>\n",
              "      <td>2000.000000</td>\n",
              "      <td>357.000000</td>\n",
              "      <td>5.100000e+01</td>\n",
              "    </tr>\n",
              "    <tr>\n",
              "      <th>50%</th>\n",
              "      <td>800.000000</td>\n",
              "      <td>15.000000</td>\n",
              "      <td>2000.000000</td>\n",
              "      <td>597.000000</td>\n",
              "      <td>5.850000e+03</td>\n",
              "    </tr>\n",
              "    <tr>\n",
              "      <th>75%</th>\n",
              "      <td>1200.000000</td>\n",
              "      <td>20.000000</td>\n",
              "      <td>4500.000000</td>\n",
              "      <td>870.000000</td>\n",
              "      <td>2.403310e+05</td>\n",
              "    </tr>\n",
              "    <tr>\n",
              "      <th>max</th>\n",
              "      <td>3800.000000</td>\n",
              "      <td>75.000000</td>\n",
              "      <td>63196.000000</td>\n",
              "      <td>9740.000000</td>\n",
              "      <td>1.804153e+06</td>\n",
              "    </tr>\n",
              "  </tbody>\n",
              "</table>\n",
              "</div>"
            ],
            "text/plain": [
              "       longitud_pista  ancho_pista  ...    elevacion  numero_vuelos_origen\n",
              "count      292.000000   292.000000  ...   292.000000          2.210000e+02\n",
              "mean       962.445205    17.633562  ...  1073.308219          1.855764e+05\n",
              "std        540.019110    10.356164  ...  1580.858623          3.121902e+05\n",
              "min        200.000000    10.000000  ...     0.000000          1.000000e+00\n",
              "25%        700.000000    10.000000  ...   357.000000          5.100000e+01\n",
              "50%        800.000000    15.000000  ...   597.000000          5.850000e+03\n",
              "75%       1200.000000    20.000000  ...   870.000000          2.403310e+05\n",
              "max       3800.000000    75.000000  ...  9740.000000          1.804153e+06\n",
              "\n",
              "[8 rows x 5 columns]"
            ]
          },
          "metadata": {},
          "execution_count": 24
        }
      ]
    },
    {
      "cell_type": "code",
      "metadata": {
        "colab": {
          "base_uri": "https://localhost:8080/",
          "height": 294
        },
        "id": "ot4-Sc0j8_yj",
        "outputId": "a4cffcd3-e240-4512-c30f-8bd797355af2"
      },
      "source": [
        "df_vuelos.selectExpr(\"carga_ofrecida\", \"carga_bordo\", \"cast(sillas as int) sillas\", \"cast(vuelos as int) vuelos\", \"cast(pasajeros as int) pasajeros\").toPandas().describe()"
      ],
      "execution_count": 25,
      "outputs": [
        {
          "output_type": "execute_result",
          "data": {
            "text/html": [
              "<div>\n",
              "<style scoped>\n",
              "    .dataframe tbody tr th:only-of-type {\n",
              "        vertical-align: middle;\n",
              "    }\n",
              "\n",
              "    .dataframe tbody tr th {\n",
              "        vertical-align: top;\n",
              "    }\n",
              "\n",
              "    .dataframe thead th {\n",
              "        text-align: right;\n",
              "    }\n",
              "</style>\n",
              "<table border=\"1\" class=\"dataframe\">\n",
              "  <thead>\n",
              "    <tr style=\"text-align: right;\">\n",
              "      <th></th>\n",
              "      <th>carga_ofrecida</th>\n",
              "      <th>carga_bordo</th>\n",
              "      <th>sillas</th>\n",
              "      <th>vuelos</th>\n",
              "      <th>pasajeros</th>\n",
              "    </tr>\n",
              "  </thead>\n",
              "  <tbody>\n",
              "    <tr>\n",
              "      <th>count</th>\n",
              "      <td>6.759900e+04</td>\n",
              "      <td>6.759900e+04</td>\n",
              "      <td>63582.000000</td>\n",
              "      <td>66017.000000</td>\n",
              "      <td>64116.000000</td>\n",
              "    </tr>\n",
              "    <tr>\n",
              "      <th>mean</th>\n",
              "      <td>4.675849e+04</td>\n",
              "      <td>5.325678e+03</td>\n",
              "      <td>1133.122535</td>\n",
              "      <td>14.263735</td>\n",
              "      <td>911.728430</td>\n",
              "    </tr>\n",
              "    <tr>\n",
              "      <th>std</th>\n",
              "      <td>2.306673e+05</td>\n",
              "      <td>2.341590e+04</td>\n",
              "      <td>4468.301902</td>\n",
              "      <td>40.198515</td>\n",
              "      <td>3613.766211</td>\n",
              "    </tr>\n",
              "    <tr>\n",
              "      <th>min</th>\n",
              "      <td>0.000000e+00</td>\n",
              "      <td>0.000000e+00</td>\n",
              "      <td>0.000000</td>\n",
              "      <td>1.000000</td>\n",
              "      <td>0.000000</td>\n",
              "    </tr>\n",
              "    <tr>\n",
              "      <th>25%</th>\n",
              "      <td>0.000000e+00</td>\n",
              "      <td>0.000000e+00</td>\n",
              "      <td>0.000000</td>\n",
              "      <td>1.000000</td>\n",
              "      <td>2.000000</td>\n",
              "    </tr>\n",
              "    <tr>\n",
              "      <th>50%</th>\n",
              "      <td>0.000000e+00</td>\n",
              "      <td>1.100000e+02</td>\n",
              "      <td>0.000000</td>\n",
              "      <td>2.000000</td>\n",
              "      <td>8.000000</td>\n",
              "    </tr>\n",
              "    <tr>\n",
              "      <th>75%</th>\n",
              "      <td>9.000000e+03</td>\n",
              "      <td>1.338000e+03</td>\n",
              "      <td>240.000000</td>\n",
              "      <td>9.000000</td>\n",
              "      <td>184.000000</td>\n",
              "    </tr>\n",
              "    <tr>\n",
              "      <th>max</th>\n",
              "      <td>7.361385e+06</td>\n",
              "      <td>1.062015e+06</td>\n",
              "      <td>79925.000000</td>\n",
              "      <td>2004.000000</td>\n",
              "      <td>65195.000000</td>\n",
              "    </tr>\n",
              "  </tbody>\n",
              "</table>\n",
              "</div>"
            ],
            "text/plain": [
              "       carga_ofrecida   carga_bordo        sillas        vuelos     pasajeros\n",
              "count    6.759900e+04  6.759900e+04  63582.000000  66017.000000  64116.000000\n",
              "mean     4.675849e+04  5.325678e+03   1133.122535     14.263735    911.728430\n",
              "std      2.306673e+05  2.341590e+04   4468.301902     40.198515   3613.766211\n",
              "min      0.000000e+00  0.000000e+00      0.000000      1.000000      0.000000\n",
              "25%      0.000000e+00  0.000000e+00      0.000000      1.000000      2.000000\n",
              "50%      0.000000e+00  1.100000e+02      0.000000      2.000000      8.000000\n",
              "75%      9.000000e+03  1.338000e+03    240.000000      9.000000    184.000000\n",
              "max      7.361385e+06  1.062015e+06  79925.000000   2004.000000  65195.000000"
            ]
          },
          "metadata": {},
          "execution_count": 25
        }
      ]
    }
  ]
}