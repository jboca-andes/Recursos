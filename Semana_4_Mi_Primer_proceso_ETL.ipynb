{
  "nbformat": 4,
  "nbformat_minor": 0,
  "metadata": {
    "colab": {
      "name": "Semana 4: Mi Primer proceso ETL",
      "provenance": [],
      "collapsed_sections": [],
      "authorship_tag": "ABX9TyPRYwcfdbC2jThqq9FMv0ft",
      "include_colab_link": true
    },
    "kernelspec": {
      "name": "python3",
      "display_name": "Python 3"
    },
    "language_info": {
      "name": "python"
    }
  },
  "cells": [
    {
      "cell_type": "markdown",
      "metadata": {
        "id": "view-in-github",
        "colab_type": "text"
      },
      "source": [
        "<a href=\"https://colab.research.google.com/github/jboca-andes/Recursos/blob/main/Semana_4_Mi_Primer_proceso_ETL.ipynb\" target=\"_parent\"><img src=\"https://colab.research.google.com/assets/colab-badge.svg\" alt=\"Open In Colab\"/></a>"
      ]
    },
    {
      "cell_type": "code",
      "metadata": {
        "id": "TsjzBxBqa6bG"
      },
      "source": [
        "!apt-get install openjdk-8-jdk-headless -qq > /dev/null\n",
        "!wget -q https://downloads.apache.org/spark/spark-3.2.0/spark-3.2.0-bin-hadoop2.7.tgz\n",
        "!tar xf spark-3.2.0-bin-hadoop2.7.tgz"
      ],
      "execution_count": 1,
      "outputs": []
    },
    {
      "cell_type": "code",
      "metadata": {
        "id": "XNp6AgJnXkRf"
      },
      "source": [
        "import os\n",
        "os.environ[\"JAVA_HOME\"] = \"/usr/lib/jvm/java-8-openjdk-amd64\"\n",
        "os.environ[\"SPARK_HOME\"] = \"/content/spark-3.2.0-bin-hadoop2.7\""
      ],
      "execution_count": 2,
      "outputs": []
    },
    {
      "cell_type": "code",
      "metadata": {
        "id": "j9SjCMmHbILG",
        "colab": {
          "base_uri": "https://localhost:8080/"
        },
        "outputId": "4d21e7f2-c9ba-45c1-b1bb-2e8e91d9a9f6"
      },
      "source": [
        "!pip install -q findspark\n",
        "!pip install -q pyspark\n",
        "!pip install -q spark-df-profiling"
      ],
      "execution_count": 3,
      "outputs": [
        {
          "output_type": "stream",
          "name": "stdout",
          "text": [
            "\u001b[K     |████████████████████████████████| 281.3 MB 35 kB/s \n",
            "\u001b[K     |████████████████████████████████| 198 kB 63.5 MB/s \n",
            "\u001b[?25h  Building wheel for pyspark (setup.py) ... \u001b[?25l\u001b[?25hdone\n",
            "\u001b[K     |████████████████████████████████| 91 kB 9.8 MB/s \n",
            "\u001b[?25h"
          ]
        }
      ]
    },
    {
      "cell_type": "code",
      "metadata": {
        "id": "2_2buTHCbR7-"
      },
      "source": [
        "import findspark\n",
        "findspark.init()"
      ],
      "execution_count": 4,
      "outputs": []
    },
    {
      "cell_type": "code",
      "metadata": {
        "id": "wHQNFBDobJ2G"
      },
      "source": [
        "from pyspark.sql import SparkSession\n",
        "\n",
        "spark = SparkSession.builder\\\n",
        "        .master(\"local\")\\\n",
        "        .appName(\"Colab\")\\\n",
        "        .config('spark.ui.port', '4050')\\\n",
        "        .getOrCreate()"
      ],
      "execution_count": 5,
      "outputs": []
    },
    {
      "cell_type": "code",
      "metadata": {
        "id": "K4375DDxWcu-"
      },
      "source": [
        "aeropuertos = 'aeropuertos.csv'\n",
        "vuelos = 'vuelos.csv'\n",
        "from pyspark import SparkFiles\n",
        "spark.sparkContext.addFile(f'https://raw.githubusercontent.com/MIAD-Modelo-Datos/Recursos/main/Infraestructura%20visible/Etapa%201/{aeropuertos}')\n",
        "spark.sparkContext.addFile(f'https://raw.githubusercontent.com/MIAD-Modelo-Datos/Recursos/main/Infraestructura%20visible/Etapa%201/{vuelos}')"
      ],
      "execution_count": 6,
      "outputs": []
    },
    {
      "cell_type": "code",
      "metadata": {
        "id": "UKcpbJQyW_Ol"
      },
      "source": [
        "df_aeropuertos = spark.read.csv('file://'+SparkFiles.get(aeropuertos), header=True, inferSchema=True)\n",
        "df_vuelos = spark.read.csv('file://'+SparkFiles.get(vuelos), header=True, inferSchema=True)\n",
        "\n",
        "df_aeropuertos.createOrReplaceTempView(\"aeropuertos\")\n",
        "df_vuelos.createOrReplaceTempView(\"vuelos\")"
      ],
      "execution_count": 7,
      "outputs": []
    },
    {
      "cell_type": "code",
      "metadata": {
        "id": "MYEPs-h2yWOF"
      },
      "source": [
        "spark.sql('''\n",
        "    select \n",
        "    sigla, iata, nombre, municipio, departamento, \n",
        "    categoria, cast(latitud as string) latitud, cast(longitud as string) longitud, \n",
        "    propietario, explotador, longitud_pista, ancho_pista, cast(pbmo as double) pbmo, \n",
        "    elevacion, resolucion, cast(fecha_construccion as date) fecha_construccion,\n",
        "    cast(fecha_vigencia as date) fecha_vigencia, clase, tipo, cast(numero_vuelos_origen as int) numero_vuelos_origen,\n",
        "    cast(gcd_departamento as string) gcd_departamento, cast(gcd_municipio as string) gcd_municipio\n",
        "    from aeropuertos\n",
        "''').createOrReplaceTempView(\"aeropuertos_ok\")\n",
        "\n",
        "\n",
        "spark.sql('''\n",
        "  select cast(ano as string) ano, cast(mes as string) mes, origen, destino, tipo_equipo, tipo_vuelo, trafico, empresa, \n",
        "  cast(vuelos as double) vuelos, cast(sillas as double) sillas, carga_ofrecida, cast(pasajeros as double) pasajeros, carga_bordo,\n",
        "  cast(UNIX_TIMESTAMP(concat(case length(mes) when 1 then '0' else '' end, cast(mes as string),'/','01','/',cast(ano as string)), 'MM/dd/yyyy') as timestamp) fecha\n",
        "  from vuelos where mes>=0 and ano >=0\n",
        "''').createOrReplaceTempView('vuelos_ok')"
      ],
      "execution_count": 8,
      "outputs": []
    },
    {
      "cell_type": "code",
      "metadata": {
        "colab": {
          "base_uri": "https://localhost:8080/"
        },
        "id": "04dGHirfLWck",
        "outputId": "74c2a6c5-37a7-407f-f0c2-183f542bf5ef"
      },
      "source": [
        "#Creacion de tablas\n",
        "#Dimension de tiempo\n",
        "tabla = \"DIM_TIEMPO\"\n",
        "query = \"SELECT ROW_NUMBER() OVER (ORDER BY FECHA) SRK_FECHA, * FROM (SELECT DISTINCT fecha FECHA, YEAR(fecha) ANHO, ceil(month(fecha)/6) SEMESTRE,  ceil(month(fecha)/3) TRIMESTRE, MONTH(fecha) MES, DAY(fecha) DIA from vuelos_ok)\"\n",
        "crear_tabla = \"CREATE TABLE {} USING CSV AS {}\".format(tabla, query)\n",
        "spark.sql(crear_tabla)"
      ],
      "execution_count": 35,
      "outputs": [
        {
          "output_type": "execute_result",
          "data": {
            "text/plain": [
              "DataFrame[]"
            ]
          },
          "metadata": {},
          "execution_count": 35
        }
      ]
    },
    {
      "cell_type": "code",
      "metadata": {
        "colab": {
          "base_uri": "https://localhost:8080/"
        },
        "id": "lcJ2bOijP2nw",
        "outputId": "9939c98b-aba2-4c04-f134-0e2f7e35e8d4"
      },
      "source": [
        "spark.sql(\"select * from DIM_TIEMPO\").show(10)"
      ],
      "execution_count": 36,
      "outputs": [
        {
          "output_type": "stream",
          "name": "stdout",
          "text": [
            "+---------+-------------------+----+--------+---------+---+---+\n",
            "|SRK_FECHA|              FECHA|ANHO|SEMESTRE|TRIMESTRE|MES|DIA|\n",
            "+---------+-------------------+----+--------+---------+---+---+\n",
            "|        1|2010-01-01 00:00:00|2010|       1|        1|  1|  1|\n",
            "|        2|2010-02-01 00:00:00|2010|       1|        1|  2|  1|\n",
            "|        3|2010-03-01 00:00:00|2010|       1|        1|  3|  1|\n",
            "|        4|2010-04-01 00:00:00|2010|       1|        2|  4|  1|\n",
            "|        5|2010-05-01 00:00:00|2010|       1|        2|  5|  1|\n",
            "|        6|2010-06-01 00:00:00|2010|       1|        2|  6|  1|\n",
            "|        7|2010-07-01 00:00:00|2010|       2|        3|  7|  1|\n",
            "|        8|2010-08-01 00:00:00|2010|       2|        3|  8|  1|\n",
            "|        9|2010-09-01 00:00:00|2010|       2|        3|  9|  1|\n",
            "|       10|2010-10-01 00:00:00|2010|       2|        4| 10|  1|\n",
            "+---------+-------------------+----+--------+---------+---+---+\n",
            "only showing top 10 rows\n",
            "\n"
          ]
        }
      ]
    },
    {
      "cell_type": "code",
      "metadata": {
        "colab": {
          "base_uri": "https://localhost:8080/"
        },
        "id": "AEtidMy-PHoA",
        "outputId": "ba84cb51-0767-47ba-fd34-fded375e0bf8"
      },
      "source": [
        "#Creacion de tablas\n",
        "#Dimension de Clase\n",
        "tabla = \"DIM_CLASE\"\n",
        "query_base = 'select DISTINCT tipo_equipo TIPO_EQUIPO, tipo_vuelo TIPO_VUELO, trafico TRAFICO, empresa EMPRESA from vuelos_ok'\n",
        "query = \"SELECT ROW_NUMBER() OVER (ORDER BY TIPO_EQUIPO, TIPO_VUELO, TRAFICO, EMPRESA) SRK_CLASE, * FROM ({})\".format(query_base)\n",
        "crear_tabla = \"CREATE TABLE {} USING CSV AS {}\".format(tabla, query)\n",
        "spark.sql(crear_tabla)"
      ],
      "execution_count": 20,
      "outputs": [
        {
          "output_type": "execute_result",
          "data": {
            "text/plain": [
              "DataFrame[]"
            ]
          },
          "metadata": {},
          "execution_count": 20
        }
      ]
    },
    {
      "cell_type": "code",
      "metadata": {
        "colab": {
          "base_uri": "https://localhost:8080/"
        },
        "id": "9QKr5FKLRTyf",
        "outputId": "5355fa3b-41ee-4760-a2ac-5b611caf3976"
      },
      "source": [
        "spark.sql(\"select * from DIM_CLASE\").show(10)"
      ],
      "execution_count": 21,
      "outputs": [
        {
          "output_type": "stream",
          "name": "stdout",
          "text": [
            "+---------+-----------+----------+-------+-------+\n",
            "|SRK_CLASE|TIPO_EQUIPO|TIPO_VUELO|TRAFICO|EMPRESA|\n",
            "+---------+-----------+----------+-------+-------+\n",
            "|        1|        318|         A|      N|AVIANCA|\n",
            "|        2|        318|         C|      N|AVIANCA|\n",
            "|        3|        318|         R|      N|AVIANCA|\n",
            "|        4|        318|         R|    nan|AVIANCA|\n",
            "|        5|        319|         A|      N|AVIANCA|\n",
            "|        6|        319|         C|      N|AVIANCA|\n",
            "|        7|        319|         R|      N|AVIANCA|\n",
            "|        8|        319|         R|      N|    SAM|\n",
            "|        9|        319|         R|    nan|AVIANCA|\n",
            "|       10|        330|         A|      N|AVIANCA|\n",
            "+---------+-----------+----------+-------+-------+\n",
            "only showing top 10 rows\n",
            "\n"
          ]
        }
      ]
    },
    {
      "cell_type": "code",
      "metadata": {
        "colab": {
          "base_uri": "https://localhost:8080/"
        },
        "id": "IaW9_oWLSegy",
        "outputId": "b74e261f-f4f6-4ef6-f64e-ab2f7383fc8b"
      },
      "source": [
        "#Creacion de tablas\n",
        "#Dimension de Aeropuertos\n",
        "tabla = \"DIM_AEROPUERTO\"\n",
        "query_base = '''select DISTINCT iata IATA, sigla SIGLA, nombre NOMBRE\n",
        ", municipio MUNICIPIO, \n",
        "departamento DEPARTAMENTO, categoria CATEGORIA, latitud LATITUD,\n",
        "longitud LONGITUD,\n",
        "propietario PROPIETARIO, explotador EXPLOTADOR, \n",
        "longitud_pista LONGITUD_PISTA, ancho_pista ANCHO_PISTA, \n",
        "pbmo PBMO, elevacion ELEVACION, clase CLASE, tipo TIPO \n",
        "from aeropuertos_ok'''\n",
        "query = \"SELECT ROW_NUMBER() OVER (ORDER BY IATA, SIGLA) SRK_AEROPUERTO, * FROM ({})\".format(query_base)\n",
        "crear_tabla = \"CREATE TABLE {} USING CSV AS {}\".format(tabla, query)\n",
        "spark.sql(crear_tabla)"
      ],
      "execution_count": 29,
      "outputs": [
        {
          "output_type": "execute_result",
          "data": {
            "text/plain": [
              "DataFrame[]"
            ]
          },
          "metadata": {},
          "execution_count": 29
        }
      ]
    },
    {
      "cell_type": "code",
      "metadata": {
        "colab": {
          "base_uri": "https://localhost:8080/"
        },
        "id": "_8PcXcxHSzTp",
        "outputId": "4e9d0fd2-7414-41d1-ba73-3e159ac0cd19"
      },
      "source": [
        "spark.sql(\"select * from DIM_AEROPUERTO\").show(10)"
      ],
      "execution_count": 30,
      "outputs": [
        {
          "output_type": "stream",
          "name": "stdout",
          "text": [
            "+--------------+----+-----+--------------------+-----------+----------------+-------------+-------+--------+-------------+--------------------+--------------+-----------+-------+---------+-----+---------+\n",
            "|SRK_AEROPUERTO|IATA|SIGLA|              NOMBRE|  MUNICIPIO|    DEPARTAMENTO|    CATEGORIA|LATITUD|LONGITUD|  PROPIETARIO|          EXPLOTADOR|LONGITUD_PISTA|ANCHO_PISTA|   PBMO|ELEVACION|CLASE|     TIPO|\n",
            "+--------------+----+-----+--------------------+-----------+----------------+-------------+-------+--------+-------------+--------------------+--------------+-----------+-------+---------+-----+---------+\n",
            "|             1| ACD|  ACD|   ALCIDES FERNANDEZ|     Acandí|           Chocó|     Regional| 8.4969|-77.2739|  INCORA LTDA|           MUNICIPIO|        1200.0|       16.0|    NaN|     50.0|   3A|  Público|\n",
            "|             2| ACL|  ACL|           AGUACLARA|Sabanalarga|        Casanare|    Aeródromo| 4.7333|-73.0583|CORREGIMIENTO|       CORREGIMIENTO|         800.0|       25.0|12202.0|   1033.0|   1C|  Público|\n",
            "|             3| ACR|  ACR|          ARARACUARA|     Solano|         Caquetá|     Regional|-0.6008|-72.3981|  GOBERNACION|         GOBERNACION|        1300.0|       30.0|27000.0|    800.0|   3C|  Público|\n",
            "|             4| ADZ|  ADZ|GUSTAVO ROJAS PIN...| San Andrés|San Andrés islas|Internacional|12.5837|-81.7113|    AEROCIVIL|           AEROCIVIL|        2380.0|       36.0|    NaN|     18.0|   4D|Aerocivil|\n",
            "|             5| AFI|  AFI|              EL RIO|     Amalfi|       Antioquia|    Aeródromo| 6.8954|-75.0475|    AEROCIVIL|           AEROCIVIL|         970.0|       20.0| 3500.0|   4831.0|   2A|Aerocivil|\n",
            "|             6| APO|  APO|ANTONIO ROLDAN BE...|     Carepa|       Antioquia|     Nacional| 7.8118|-76.7164|    AEROCIVIL|EN CONCESION- SOA...|        2180.0|       30.0|    NaN|     46.0|   4C|Aerocivil|\n",
            "|             7| ARO|  ARO|           ARBOLETES|  Arboletes|       Antioquia|    Aeródromo| 8.8394|  -76.43|    MUNICIPIO|           MUNICIPIO|        1100.0|       10.0| 6000.0|     13.0|   2B|  Público|\n",
            "|             8| ARQ|  ARQ|          EL TRONCAL|  Arauquita|          Arauca|    Aeródromo| 7.0211|-71.3889|    AEROCIVIL|           AEROCIVIL|         960.0|       12.0|12202.0|    509.0|   2C|Aerocivil|\n",
            "|             9| AUC|  AUC|SANTIAGO PEREZ QU...|     Arauca|          Arauca|     Nacional| 7.0689| -70.737|    AEROCIVIL|           AEROCIVIL|        2100.0|       30.0|    NaN|    418.0|   4C|Aerocivil|\n",
            "|            10| AZT|  ZPS|GUILLERMO GOMEZ O...|   Zapatoca|       Santander|    Aeródromo| 6.7674|-73.2846|    MUNICIPIO|           MUNICIPIO|         700.0|       14.0| 2300.0|   5918.0|   1A|  Público|\n",
            "+--------------+----+-----+--------------------+-----------+----------------+-------------+-------+--------+-------------+--------------------+--------------+-----------+-------+---------+-----+---------+\n",
            "only showing top 10 rows\n",
            "\n"
          ]
        }
      ]
    },
    {
      "cell_type": "code",
      "metadata": {
        "colab": {
          "base_uri": "https://localhost:8080/"
        },
        "id": "RI4setEdTKj3",
        "outputId": "92bf72f0-6e88-452b-c54b-b29cf6b3c75c"
      },
      "source": [
        "#Creacion de tablas\n",
        "#Tabla de hechos de vuelos\n",
        "tabla = \"FACT_VUELO\"\n",
        "query_base = '''\n",
        "SELECT 'SALIENTE' TIPO, \n",
        "A.SRK_AEROPUERTO, \n",
        "F.SRK_FECHA,\n",
        "C.SRK_CLASE,\n",
        "vuelos VUELOS,\n",
        "sillas SILLAS,\n",
        "carga_ofrecida CARGA_OFRECIDA,\n",
        "pasajeros PASAJEROS,\n",
        "carga_bordo CARGA_BORDO\n",
        "FROM vuelos_ok V INNER JOIN DIM_AEROPUERTO A on V.origen = a.SIGLA\n",
        "INNER JOIN DIM_TIEMPO F ON V.fecha = F.FECHA\n",
        "INNER JOIN DIM_CLASE C ON V.tipo_equipo = C.TIPO_EQUIPO AND V.tipo_vuelo = C.TIPO_VUELO AND V.trafico = C.TRAFICO AND V.empresa = C.EMPRESA\n",
        "UNION\n",
        "SELECT 'ENTRANTE' TIPO, \n",
        "A.SRK_AEROPUERTO, \n",
        "F.SRK_FECHA,\n",
        "C.SRK_CLASE,\n",
        "vuelos VUELOS,\n",
        "sillas SILLAS,\n",
        "carga_ofrecida CARGA_OFRECIDA,\n",
        "pasajeros PASAJEROS,\n",
        "carga_bordo CARGA_BORDO\n",
        "FROM vuelos_ok V INNER JOIN DIM_AEROPUERTO A on V.destino = a.SIGLA\n",
        "INNER JOIN DIM_TIEMPO F ON V.fecha = F.FECHA\n",
        "INNER JOIN DIM_CLASE C ON V.tipo_equipo = C.TIPO_EQUIPO AND V.tipo_vuelo = C.TIPO_VUELO AND V.trafico = C.TRAFICO AND V.empresa = C.EMPRESA\n",
        "'''\n",
        "query = \"SELECT ROW_NUMBER() OVER (ORDER BY TIPO, SRK_AEROPUERTO, SRK_FECHA, SRK_CLASE) SRK_FACT_VUELO, * FROM ({})\".format(query_base)\n",
        "crear_tabla = \"CREATE TABLE {} USING CSV AS {}\".format(tabla, query)\n",
        "spark.sql(crear_tabla)"
      ],
      "execution_count": 42,
      "outputs": [
        {
          "output_type": "execute_result",
          "data": {
            "text/plain": [
              "DataFrame[]"
            ]
          },
          "metadata": {},
          "execution_count": 42
        }
      ]
    },
    {
      "cell_type": "code",
      "metadata": {
        "colab": {
          "base_uri": "https://localhost:8080/"
        },
        "id": "qaIiB8kOXrOH",
        "outputId": "9c7a388e-4164-4974-9da9-8606dbc5a747"
      },
      "source": [
        "spark.sql('DESCRIBE TABLE DIM_TIEMPO').show()"
      ],
      "execution_count": 45,
      "outputs": [
        {
          "output_type": "stream",
          "name": "stdout",
          "text": [
            "+---------+---------+-------+\n",
            "| col_name|data_type|comment|\n",
            "+---------+---------+-------+\n",
            "|SRK_FECHA|      int|   null|\n",
            "|    FECHA|timestamp|   null|\n",
            "|     ANHO|      int|   null|\n",
            "| SEMESTRE|   bigint|   null|\n",
            "|TRIMESTRE|   bigint|   null|\n",
            "|      MES|      int|   null|\n",
            "|      DIA|      int|   null|\n",
            "+---------+---------+-------+\n",
            "\n"
          ]
        }
      ]
    },
    {
      "cell_type": "code",
      "metadata": {
        "colab": {
          "base_uri": "https://localhost:8080/"
        },
        "id": "GwQsfovrY3YL",
        "outputId": "1e16edfd-db2d-4cc7-f788-316e7766412e"
      },
      "source": [
        "spark.sql('DESCRIBE TABLE DIM_CLASE').show()"
      ],
      "execution_count": 46,
      "outputs": [
        {
          "output_type": "stream",
          "name": "stdout",
          "text": [
            "+-----------+---------+-------+\n",
            "|   col_name|data_type|comment|\n",
            "+-----------+---------+-------+\n",
            "|  SRK_CLASE|      int|   null|\n",
            "|TIPO_EQUIPO|   string|   null|\n",
            "| TIPO_VUELO|   string|   null|\n",
            "|    TRAFICO|   string|   null|\n",
            "|    EMPRESA|   string|   null|\n",
            "+-----------+---------+-------+\n",
            "\n"
          ]
        }
      ]
    },
    {
      "cell_type": "code",
      "metadata": {
        "colab": {
          "base_uri": "https://localhost:8080/"
        },
        "id": "lPbXRAq-ZBUQ",
        "outputId": "7979f3f9-f33f-4e4c-b893-f72ae2723421"
      },
      "source": [
        "spark.sql('DESCRIBE TABLE DIM_AEROPUERTO').show()"
      ],
      "execution_count": 47,
      "outputs": [
        {
          "output_type": "stream",
          "name": "stdout",
          "text": [
            "+--------------+---------+-------+\n",
            "|      col_name|data_type|comment|\n",
            "+--------------+---------+-------+\n",
            "|SRK_AEROPUERTO|      int|   null|\n",
            "|          IATA|   string|   null|\n",
            "|         SIGLA|   string|   null|\n",
            "|        NOMBRE|   string|   null|\n",
            "|     MUNICIPIO|   string|   null|\n",
            "|  DEPARTAMENTO|   string|   null|\n",
            "|     CATEGORIA|   string|   null|\n",
            "|       LATITUD|   string|   null|\n",
            "|      LONGITUD|   string|   null|\n",
            "|   PROPIETARIO|   string|   null|\n",
            "|    EXPLOTADOR|   string|   null|\n",
            "|LONGITUD_PISTA|   double|   null|\n",
            "|   ANCHO_PISTA|   double|   null|\n",
            "|          PBMO|   double|   null|\n",
            "|     ELEVACION|   double|   null|\n",
            "|         CLASE|   string|   null|\n",
            "|          TIPO|   string|   null|\n",
            "+--------------+---------+-------+\n",
            "\n"
          ]
        }
      ]
    }
  ]
}