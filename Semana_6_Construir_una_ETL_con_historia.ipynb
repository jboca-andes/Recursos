{
  "nbformat": 4,
  "nbformat_minor": 0,
  "metadata": {
    "colab": {
      "name": "Semana 6: Construir una ETL con historia",
      "provenance": [],
      "collapsed_sections": [],
      "authorship_tag": "ABX9TyMKEc0+Qy2llYv3viG/CJwr",
      "include_colab_link": true
    },
    "kernelspec": {
      "name": "python3",
      "display_name": "Python 3"
    },
    "language_info": {
      "name": "python"
    }
  },
  "cells": [
    {
      "cell_type": "markdown",
      "metadata": {
        "id": "view-in-github",
        "colab_type": "text"
      },
      "source": [
        "<a href=\"https://colab.research.google.com/github/jboca-andes/Recursos/blob/main/Semana_6_Construir_una_ETL_con_historia.ipynb\" target=\"_parent\"><img src=\"https://colab.research.google.com/assets/colab-badge.svg\" alt=\"Open In Colab\"/></a>"
      ]
    },
    {
      "cell_type": "markdown",
      "metadata": {
        "id": "ipIaFRy9cW7d"
      },
      "source": [
        ""
      ]
    },
    {
      "cell_type": "code",
      "metadata": {
        "id": "TsjzBxBqa6bG"
      },
      "source": [
        "!apt-get install openjdk-8-jdk-headless -qq > /dev/null\n",
        "!wget -q https://downloads.apache.org/spark/spark-3.2.0/spark-3.2.0-bin-hadoop2.7.tgz\n",
        "!tar xf spark-3.2.0-bin-hadoop2.7.tgz"
      ],
      "execution_count": 1,
      "outputs": []
    },
    {
      "cell_type": "code",
      "metadata": {
        "id": "XNp6AgJnXkRf"
      },
      "source": [
        "import os\n",
        "os.environ[\"JAVA_HOME\"] = \"/usr/lib/jvm/java-8-openjdk-amd64\"\n",
        "os.environ[\"SPARK_HOME\"] = \"/content/spark-3.2.0-bin-hadoop2.7\""
      ],
      "execution_count": 2,
      "outputs": []
    },
    {
      "cell_type": "code",
      "metadata": {
        "id": "j9SjCMmHbILG",
        "colab": {
          "base_uri": "https://localhost:8080/"
        },
        "outputId": "90809814-b051-4443-c408-b2bd86fd5ec2"
      },
      "source": [
        "!pip install -q findspark\n",
        "!pip install -q pyspark\n",
        "!pip install -q spark-df-profiling"
      ],
      "execution_count": 3,
      "outputs": [
        {
          "output_type": "stream",
          "name": "stdout",
          "text": [
            "\u001b[K     |████████████████████████████████| 281.3 MB 40 kB/s \n",
            "\u001b[K     |████████████████████████████████| 198 kB 46.2 MB/s \n",
            "\u001b[?25h  Building wheel for pyspark (setup.py) ... \u001b[?25l\u001b[?25hdone\n",
            "\u001b[K     |████████████████████████████████| 91 kB 4.3 MB/s \n",
            "\u001b[?25h"
          ]
        }
      ]
    },
    {
      "cell_type": "code",
      "metadata": {
        "id": "2_2buTHCbR7-"
      },
      "source": [
        "import findspark\n",
        "findspark.init()"
      ],
      "execution_count": 4,
      "outputs": []
    },
    {
      "cell_type": "code",
      "metadata": {
        "id": "wHQNFBDobJ2G"
      },
      "source": [
        "from pyspark.sql import SparkSession\n",
        "\n",
        "spark = SparkSession.builder\\\n",
        "        .master(\"local\")\\\n",
        "        .appName(\"Colab\")\\\n",
        "        .config('spark.ui.port', '4050')\\\n",
        "        .getOrCreate()"
      ],
      "execution_count": 5,
      "outputs": []
    },
    {
      "cell_type": "code",
      "metadata": {
        "id": "K4375DDxWcu-",
        "colab": {
          "base_uri": "https://localhost:8080/"
        },
        "outputId": "9133826b-6fb3-4998-f0d2-c62a625ad47d"
      },
      "source": [
        "aeropuertos = 'aeropuertos_cambios_infraestructura.csv'\n",
        "vuelos = 'vuelosEtapa2.csv'\n",
        "\n",
        "from pyspark import SparkFiles\n",
        "spark.sparkContext.addFile(f'https://raw.githubusercontent.com/MIAD-Modelo-Datos/Recursos/main/Infraestructura%20visible/Etapa%202/{aeropuertos}')\n",
        "spark.sparkContext.addFile(f'https://raw.githubusercontent.com/MIAD-Modelo-Datos/Recursos/main/Infraestructura%20visible/Etapa%202/{vuelos}')\n",
        "\n",
        "#Adicionando la descarga de cobertura\n",
        "!wget https://github.com/MIAD-Modelo-Datos/Recursos/raw/main/Infraestructura%20visible/Etapa%202/Cobertura%20Aerea%20de%20Centros%20poblados%20por%20categoria%20de%20AereopuertoConCodigoCentroPoblado.xlsx\n",
        "\n",
        "import pandas as pd\n",
        "pd_cobertura = pd.read_excel(\"Cobertura Aerea de Centros poblados por categoria de AereopuertoConCodigoCentroPoblado.xlsx\")"
      ],
      "execution_count": 6,
      "outputs": [
        {
          "output_type": "stream",
          "name": "stdout",
          "text": [
            "--2021-11-21 14:16:46--  https://github.com/MIAD-Modelo-Datos/Recursos/raw/main/Infraestructura%20visible/Etapa%202/Cobertura%20Aerea%20de%20Centros%20poblados%20por%20categoria%20de%20AereopuertoConCodigoCentroPoblado.xlsx\n",
            "Resolving github.com (github.com)... 140.82.112.3\n",
            "Connecting to github.com (github.com)|140.82.112.3|:443... connected.\n",
            "HTTP request sent, awaiting response... 302 Found\n",
            "Location: https://raw.githubusercontent.com/MIAD-Modelo-Datos/Recursos/main/Infraestructura%20visible/Etapa%202/Cobertura%20Aerea%20de%20Centros%20poblados%20por%20categoria%20de%20AereopuertoConCodigoCentroPoblado.xlsx [following]\n",
            "--2021-11-21 14:16:46--  https://raw.githubusercontent.com/MIAD-Modelo-Datos/Recursos/main/Infraestructura%20visible/Etapa%202/Cobertura%20Aerea%20de%20Centros%20poblados%20por%20categoria%20de%20AereopuertoConCodigoCentroPoblado.xlsx\n",
            "Resolving raw.githubusercontent.com (raw.githubusercontent.com)... 185.199.108.133, 185.199.109.133, 185.199.110.133, ...\n",
            "Connecting to raw.githubusercontent.com (raw.githubusercontent.com)|185.199.108.133|:443... connected.\n",
            "HTTP request sent, awaiting response... 200 OK\n",
            "Length: 949034 (927K) [application/octet-stream]\n",
            "Saving to: ‘Cobertura Aerea de Centros poblados por categoria de AereopuertoConCodigoCentroPoblado.xlsx’\n",
            "\n",
            "Cobertura Aerea de  100%[===================>] 926.79K  --.-KB/s    in 0.05s   \n",
            "\n",
            "2021-11-21 14:16:47 (19.1 MB/s) - ‘Cobertura Aerea de Centros poblados por categoria de AereopuertoConCodigoCentroPoblado.xlsx’ saved [949034/949034]\n",
            "\n"
          ]
        }
      ]
    },
    {
      "cell_type": "code",
      "metadata": {
        "id": "cfwDMj70ESJW"
      },
      "source": [
        "from pyspark.sql.types import StructType, StructField, StringType, DoubleType\n",
        "\n",
        "#Estructura para la cobertura (Todo en String para no perder información)\n",
        "esquema = StructType([StructField(\"codCentroPoblado\", StringType(), True),\n",
        "                      StructField(\"NomCentroPoblado\", StringType(), True),\n",
        "                      StructField(\"Aeropuerto\", StringType(), True),\n",
        "                      StructField(\"Distancia\", DoubleType(), True),\n",
        "                      StructField(\"Cobertura\", StringType(), True),\n",
        "                      StructField(\"Aerodromo\", StringType(), True),\n",
        "                      StructField(\"D_Aerodromo\", DoubleType(), True),\n",
        "                      StructField(\"Regional\", StringType(), True),\n",
        "                      StructField(\"D_Regional\", DoubleType(), True),\n",
        "                      StructField(\"Nacional\", StringType(), True),\n",
        "                      StructField(\"D_Nacional\", DoubleType(), True),\n",
        "                      StructField(\"Internacional\", StringType(), True),\n",
        "                      StructField(\"D_Internacional\", DoubleType(), True),\n",
        "                      StructField(\"Tipo_Cobertura\", StringType(), True)\n",
        "                      ])"
      ],
      "execution_count": 7,
      "outputs": []
    },
    {
      "cell_type": "code",
      "metadata": {
        "id": "UKcpbJQyW_Ol"
      },
      "source": [
        "df_aeropuertos = spark.read.csv('file://'+SparkFiles.get(aeropuertos), header=True, inferSchema=True)\n",
        "df_vuelos = spark.read.csv('file://'+SparkFiles.get(vuelos), header=True, inferSchema=True)\n",
        "df_cobertura = spark.createDataFrame(pd_cobertura, schema=esquema)\n",
        "\n",
        "df_aeropuertos.createOrReplaceTempView(\"aeropuertos\")\n",
        "df_vuelos.createOrReplaceTempView(\"vuelos\")\n",
        "df_cobertura.createOrReplaceTempView(\"cobertura\")"
      ],
      "execution_count": 8,
      "outputs": []
    },
    {
      "cell_type": "code",
      "metadata": {
        "id": "MYEPs-h2yWOF"
      },
      "source": [
        "spark.sql('''\n",
        "    select ROW_NUMBER() OVER (PARTITION BY sigla ORDER BY cast(UNIX_TIMESTAMP(concat('01','/','01','/',cast(ano as string)), 'MM/dd/yyyy') as timestamp)) posicion,\n",
        "    sigla, iata, nombre, municipio, departamento, \n",
        "    categoria, cast(latitud as string) latitud, cast(longitud as string) longitud, \n",
        "    propietario, explotador, longitud_pista, ancho_pista, cast(pbmo as double) pbmo, \n",
        "    elevacion, resolucion, cast(fecha_construccion as date) fecha_construccion,\n",
        "    cast(fecha_vigencia as date) fecha_vigencia, clase, tipo, cast(numero_vuelos_origen as int) numero_vuelos_origen,\n",
        "    cast(gcd_departamento as string) gcd_departamento, cast(gcd_municipio as string) gcd_municipio,\n",
        "    cast(UNIX_TIMESTAMP(concat('01','/','01','/',cast(ano as string)), 'MM/dd/yyyy') as timestamp) fechaInicioReg\n",
        "    from aeropuertos\n",
        "''').createOrReplaceTempView(\"aeropuertos_ok\")\n",
        "\n",
        "\n",
        "spark.sql('''\n",
        "  select cast(ano as string) ano, cast(mes as string) mes, origen, destino, tipo_equipo, tipo_vuelo, trafico, empresa, \n",
        "  cast(vuelos as double) vuelos, cast(sillas as double) sillas, carga_ofrecida, cast(pasajeros as double) pasajeros, carga_bordo,\n",
        "  cast(UNIX_TIMESTAMP(concat(case length(mes) when 1 then '0' else '' end, cast(mes as string),'/','01','/',cast(ano as string)), 'MM/dd/yyyy') as timestamp) fecha\n",
        "  from vuelos where mes>=0 and ano >=0 and origen <> destino\n",
        "''').createOrReplaceTempView('vuelos_ok')\n",
        "\n",
        "\n",
        "spark.sql('''\n",
        "  select *\n",
        "  from cobertura\n",
        "''').createOrReplaceTempView('cobertura_ok')"
      ],
      "execution_count": 9,
      "outputs": []
    },
    {
      "cell_type": "code",
      "metadata": {
        "colab": {
          "base_uri": "https://localhost:8080/"
        },
        "id": "04dGHirfLWck",
        "outputId": "d588633e-8d09-45a6-a62f-70af8d066e22"
      },
      "source": [
        "#Creacion de tablas\n",
        "#Dimension de tiempo\n",
        "tabla = \"DIM_TIEMPO\"\n",
        "query = \"SELECT ROW_NUMBER() OVER (ORDER BY FECHA) SRK_FECHA, * FROM (SELECT DISTINCT fecha FECHA, YEAR(fecha) ANHO, ceil(month(fecha)/6) SEMESTRE,  ceil(month(fecha)/3) TRIMESTRE, MONTH(fecha) MES, DAY(fecha) DIA from vuelos_ok)\"\n",
        "crear_tabla = \"CREATE TABLE {} USING CSV AS {}\".format(tabla, query)\n",
        "spark.sql(crear_tabla)"
      ],
      "execution_count": 10,
      "outputs": [
        {
          "output_type": "execute_result",
          "data": {
            "text/plain": [
              "DataFrame[]"
            ]
          },
          "metadata": {},
          "execution_count": 10
        }
      ]
    },
    {
      "cell_type": "code",
      "metadata": {
        "colab": {
          "base_uri": "https://localhost:8080/"
        },
        "id": "lcJ2bOijP2nw",
        "outputId": "b15aa792-1559-4a44-f772-4ea2a535b2b0"
      },
      "source": [
        "spark.sql(\"select * from DIM_TIEMPO\").show(10)"
      ],
      "execution_count": 11,
      "outputs": [
        {
          "output_type": "stream",
          "name": "stdout",
          "text": [
            "+---------+-------------------+----+--------+---------+---+---+\n",
            "|SRK_FECHA|              FECHA|ANHO|SEMESTRE|TRIMESTRE|MES|DIA|\n",
            "+---------+-------------------+----+--------+---------+---+---+\n",
            "|        1|2010-01-01 00:00:00|2010|       1|        1|  1|  1|\n",
            "|        2|2010-02-01 00:00:00|2010|       1|        1|  2|  1|\n",
            "|        3|2010-03-01 00:00:00|2010|       1|        1|  3|  1|\n",
            "|        4|2010-04-01 00:00:00|2010|       1|        2|  4|  1|\n",
            "|        5|2010-05-01 00:00:00|2010|       1|        2|  5|  1|\n",
            "|        6|2010-06-01 00:00:00|2010|       1|        2|  6|  1|\n",
            "|        7|2010-07-01 00:00:00|2010|       2|        3|  7|  1|\n",
            "|        8|2010-08-01 00:00:00|2010|       2|        3|  8|  1|\n",
            "|        9|2010-09-01 00:00:00|2010|       2|        3|  9|  1|\n",
            "|       10|2010-10-01 00:00:00|2010|       2|        4| 10|  1|\n",
            "+---------+-------------------+----+--------+---------+---+---+\n",
            "only showing top 10 rows\n",
            "\n"
          ]
        }
      ]
    },
    {
      "cell_type": "code",
      "metadata": {
        "colab": {
          "base_uri": "https://localhost:8080/"
        },
        "id": "AEtidMy-PHoA",
        "outputId": "a0cf7809-3c67-4323-9c40-8b117296df15"
      },
      "source": [
        "#Creacion de tablas\n",
        "#Dimension de Clase\n",
        "tabla = \"DIM_CLASE\"\n",
        "query_base = 'select DISTINCT tipo_equipo TIPO_EQUIPO, tipo_vuelo TIPO_VUELO, trafico TRAFICO, empresa EMPRESA from vuelos_ok'\n",
        "query = \"SELECT ROW_NUMBER() OVER (ORDER BY TIPO_EQUIPO, TIPO_VUELO, TRAFICO, EMPRESA) SRK_CLASE, * FROM ({})\".format(query_base)\n",
        "crear_tabla = \"CREATE TABLE {} USING CSV AS {}\".format(tabla, query)\n",
        "spark.sql(crear_tabla)"
      ],
      "execution_count": 12,
      "outputs": [
        {
          "output_type": "execute_result",
          "data": {
            "text/plain": [
              "DataFrame[]"
            ]
          },
          "metadata": {},
          "execution_count": 12
        }
      ]
    },
    {
      "cell_type": "code",
      "metadata": {
        "colab": {
          "base_uri": "https://localhost:8080/"
        },
        "id": "9QKr5FKLRTyf",
        "outputId": "f5cd0625-3e47-43ce-e772-3239c2b91146"
      },
      "source": [
        "spark.sql(\"select * from DIM_CLASE\").show(10)"
      ],
      "execution_count": 13,
      "outputs": [
        {
          "output_type": "stream",
          "name": "stdout",
          "text": [
            "+---------+-----------+----------+-------+----------------+\n",
            "|SRK_CLASE|TIPO_EQUIPO|TIPO_VUELO|TRAFICO|         EMPRESA|\n",
            "+---------+-----------+----------+-------+----------------+\n",
            "|        1|        318|         A|      N|         AVIANCA|\n",
            "|        2|        318|         C|      N|         AVIANCA|\n",
            "|        3|        318|         R|      N|         AVIANCA|\n",
            "|        4|        319|         A|      N|         AVIANCA|\n",
            "|        5|        319|         C|      N|         AVIANCA|\n",
            "|        6|        319|         R|      N|         AVIANCA|\n",
            "|        7|        319|         R|      N|             SAM|\n",
            "|        8|        330|         A|      N|         AVIANCA|\n",
            "|        9|        330|         R|      N|         AVIANCA|\n",
            "|       10|        332|         R|      N|TAMPA CARGO S.A.|\n",
            "+---------+-----------+----------+-------+----------------+\n",
            "only showing top 10 rows\n",
            "\n"
          ]
        }
      ]
    },
    {
      "cell_type": "code",
      "metadata": {
        "colab": {
          "base_uri": "https://localhost:8080/"
        },
        "id": "IaW9_oWLSegy",
        "outputId": "30853c3c-9120-4633-8482-f86a14304bc3"
      },
      "source": [
        "#Creacion de tablas\n",
        "#Dimension de Aeropuertos\n",
        "tabla = \"DIM_AEROPUERTO\"\n",
        "\n",
        "query_base = '''select DISTINCT a1.iata IATA, a1.sigla SIGLA, a1.nombre NOMBRE\n",
        ", a1.municipio MUNICIPIO, \n",
        "a1.departamento DEPARTAMENTO, a1.categoria CATEGORIA, a1.latitud LATITUD,\n",
        "a1.longitud LONGITUD,\n",
        "a1.propietario PROPIETARIO, a1.explotador EXPLOTADOR, \n",
        "a1.longitud_pista LONGITUD_PISTA, a1.ancho_pista ANCHO_PISTA, \n",
        "a1.pbmo PBMO, a1.elevacion ELEVACION, a1.clase CLASE, a1.tipo TIPO,\n",
        "CASE WHEN a1.posicion=1 THEN a1.fecha_construccion ELSE a1.fechaInicioReg END FECHA_INICIO, a2.fechaInicioReg FECHA_FINALIZACION\n",
        "FROM aeropuertos_ok a1 LEFT JOIN aeropuertos_ok a2 ON a1.sigla=a2.sigla AND a1.posicion = a2.posicion-1 '''\n",
        "\n",
        "query = \"SELECT ROW_NUMBER() OVER (ORDER BY SIGLA, FECHA_INICIO) SRK_AEROPUERTO, * FROM ({})\".format(query_base)\n",
        "crear_tabla = \"CREATE TABLE {} USING CSV AS {}\".format(tabla, query)\n",
        "spark.sql(crear_tabla)"
      ],
      "execution_count": 14,
      "outputs": [
        {
          "output_type": "execute_result",
          "data": {
            "text/plain": [
              "DataFrame[]"
            ]
          },
          "metadata": {},
          "execution_count": 14
        }
      ]
    },
    {
      "cell_type": "code",
      "metadata": {
        "colab": {
          "base_uri": "https://localhost:8080/"
        },
        "id": "_8PcXcxHSzTp",
        "outputId": "c390471a-8751-4cb6-fdc8-99bf6200d527"
      },
      "source": [
        "spark.sql(\"select * from DIM_AEROPUERTO\").show(10)"
      ],
      "execution_count": 15,
      "outputs": [
        {
          "output_type": "stream",
          "name": "stdout",
          "text": [
            "+--------------+----+-----+--------------------+-------------+------------+---------+-------+--------+--------------------+-------------------+--------------+-----------+------+---------+-----+----------+-------------------+-------------------+\n",
            "|SRK_AEROPUERTO|IATA|SIGLA|              NOMBRE|    MUNICIPIO|DEPARTAMENTO|CATEGORIA|LATITUD|LONGITUD|         PROPIETARIO|         EXPLOTADOR|LONGITUD_PISTA|ANCHO_PISTA|  PBMO|ELEVACION|CLASE|      TIPO|       FECHA_INICIO| FECHA_FINALIZACION|\n",
            "+--------------+----+-----+--------------------+-------------+------------+---------+-------+--------+--------------------+-------------------+--------------+-----------+------+---------+-----+----------+-------------------+-------------------+\n",
            "|             1|null|  7FO|             LA ISLA|Puerto Gaitán|        Meta|Aeródromo| 4.4211|-71.6271|LA ISLA Y EL ROSA...|      LA CEIBA S.A.|        1079.0|       19.0|3000.0|    538.0|   1A|Fumigación|2015-06-05 00:00:00|2016-01-01 00:00:00|\n",
            "|             2|null|  7FO|             LA ISLA|Puerto Gaitán|        Meta|Aeródromo| 4.4211|-71.6271|LA ISLA Y EL ROSA...|      LA CEIBA S.A.|        1321.0|       38.0|3000.0|    538.0|   1A|Fumigación|2016-01-01 00:00:00|               null|\n",
            "|             3|null|  7FU|        LA ESCONDIDA|Puerto Gaitán|        Meta|Aeródromo| 4.6108|-71.1935|PALMAS SICARARE S...|     COSARGO S.A.S.|        2141.0|       17.0|5000.0|    564.0|   1A| Aerocivil|2013-04-26 00:00:00|2015-01-01 00:00:00|\n",
            "|             4|null|  7FU|        LA ESCONDIDA|Puerto Gaitán|        Meta|Aeródromo| 4.6108|-71.1935|PALMAS SICARARE S...|     COSARGO S.A.S.|        3853.0|        5.0|5000.0|    564.0|   1A| Aerocivil|2015-01-01 00:00:00|2016-01-01 00:00:00|\n",
            "|             5|null|  7FU|        LA ESCONDIDA|Puerto Gaitán|        Meta|Aeródromo| 4.6108|-71.1935|PALMAS SICARARE S...|     COSARGO S.A.S.|        6667.0|        5.0|5000.0|    564.0|   1A|   Público|2016-01-01 00:00:00|               null|\n",
            "|             6|null|  7FW|           MORICHITO| Hato Corozal|    Casanare|Aeródromo| 5.9188|-71.7932|      CARMEN NARANJO|ROBERTO C. RIAÑO P.|        1361.0|       14.0|3500.0|    720.0|   1A|   Privado|2009-05-07 00:00:00|2015-01-01 00:00:00|\n",
            "|             7|null|  7FW|           MORICHITO| Hato Corozal|    Casanare|Aeródromo| 5.9188|-71.7932|      CARMEN NARANJO|ROBERTO C. RIAÑO P.|        1442.0|        4.0|3500.0|    720.0|   1A|Fumigación|2015-01-01 00:00:00|2016-01-01 00:00:00|\n",
            "|             8|null|  7FW|           MORICHITO| Hato Corozal|    Casanare|Aeródromo| 5.9188|-71.7932|      CARMEN NARANJO|ROBERTO C. RIAÑO P.|        2411.0|        1.0|3500.0|    720.0|   1A| Aerocivil|2016-01-01 00:00:00|               null|\n",
            "|             9|null|  7FX|CAROLINA DEL PRIN...|     Carolina|   Antioquia|Aeródromo| 6.7248|-75.2909|           MUNICIPIO|          MUNICIPIO|         452.0|        0.0|1000.0|   6004.0|   1A|   Público|2013-11-19 00:00:00|2015-01-01 00:00:00|\n",
            "|            10|null|  7FX|CAROLINA DEL PRIN...|     Carolina|   Antioquia|Aeródromo| 6.7248|-75.2909|           MUNICIPIO|          MUNICIPIO|         518.0|        0.0|1000.0|   6004.0|   1A|Fumigación|2015-01-01 00:00:00|2016-01-01 00:00:00|\n",
            "+--------------+----+-----+--------------------+-------------+------------+---------+-------+--------+--------------------+-------------------+--------------+-----------+------+---------+-----+----------+-------------------+-------------------+\n",
            "only showing top 10 rows\n",
            "\n"
          ]
        }
      ]
    },
    {
      "cell_type": "code",
      "metadata": {
        "colab": {
          "base_uri": "https://localhost:8080/"
        },
        "id": "mDG5t3dhuWVk",
        "outputId": "31bad06c-f08c-4dd6-babc-e80dddcdc661"
      },
      "source": [
        "tabla = 'DIM_CENTRO_POBLADO'\n",
        "query_base = '''\n",
        "SELECT DISTINCT codCentroPoblado COD_CENTRO_POBLADO, NomCentroPoblado NOMBRE_CENTRO_POBLADO, Tipo_Cobertura TIPO_COBERTURA FROM cobertura_ok\n",
        "'''\n",
        "query = \"SELECT ROW_NUMBER() OVER (ORDER BY COD_CENTRO_POBLADO) SRK_CENTRO_POBLADO, * FROM ({})\".format(query_base)\n",
        "crear_tabla = \"CREATE TABLE {} USING CSV AS {}\".format(tabla, query)\n",
        "spark.sql(crear_tabla)"
      ],
      "execution_count": 16,
      "outputs": [
        {
          "output_type": "execute_result",
          "data": {
            "text/plain": [
              "DataFrame[]"
            ]
          },
          "metadata": {},
          "execution_count": 16
        }
      ]
    },
    {
      "cell_type": "code",
      "metadata": {
        "colab": {
          "base_uri": "https://localhost:8080/"
        },
        "id": "W6R2JE0avSZD",
        "outputId": "fe352862-76be-4ea3-bec5-85dc9e17622d"
      },
      "source": [
        "spark.sql(\"select * from DIM_CENTRO_POBLADO\").show(10)"
      ],
      "execution_count": 17,
      "outputs": [
        {
          "output_type": "stream",
          "name": "stdout",
          "text": [
            "+------------------+------------------+---------------------+--------------+\n",
            "|SRK_CENTRO_POBLADO|COD_CENTRO_POBLADO|NOMBRE_CENTRO_POBLADO|TIPO_COBERTURA|\n",
            "+------------------+------------------+---------------------+--------------+\n",
            "|                 1|          11001000| BOGOTÁ, DISTRITO ...| Internacional|\n",
            "|                 2|          11001002|             NAZARETH|     Aeródromo|\n",
            "|                 3|          11001007|            PASQUILLA| Internacional|\n",
            "|                 4|          11001008|             SAN JUAN|     Aeródromo|\n",
            "|                 5|          11001009|              BETANIA|     Aeródromo|\n",
            "|                 6|          11001010|             LA UNIÓN| Sin cobertura|\n",
            "|                 7|          11001011|        MOCHUELO ALTO| Internacional|\n",
            "|                 8|          11001012|           CHORRILLOS| Internacional|\n",
            "|                 9|          11001013|           EL DESTINO| Internacional|\n",
            "|                10|          11001014|        NUEVA GRANADA| Sin cobertura|\n",
            "+------------------+------------------+---------------------+--------------+\n",
            "only showing top 10 rows\n",
            "\n"
          ]
        }
      ]
    },
    {
      "cell_type": "code",
      "metadata": {
        "colab": {
          "base_uri": "https://localhost:8080/"
        },
        "id": "U9y7kihqvZ27",
        "outputId": "4e77a6f2-7ee3-4a3a-b9cd-8dbc4e975687"
      },
      "source": [
        "tabla = 'CENTRO_POBLADO_AEROPUERTO'\n",
        "query_base = '''\n",
        "SELECT CP.SRK_CENTRO_POBLADO, SRK_AEROPUERTO, C.Distancia DISTANCIA\n",
        "FROM cobertura_ok C \n",
        "  INNER JOIN DIM_CENTRO_POBLADO CP ON C.codCentroPoblado = CP.COD_CENTRO_POBLADO\n",
        "  INNER JOIN DIM_AEROPUERTO A1 ON C.Aeropuerto = A1.SIGLA AND A1.FECHA_FINALIZACION IS NULL\n",
        "UNION\n",
        "SELECT CP.SRK_CENTRO_POBLADO, SRK_AEROPUERTO, C.D_Aerodromo DISTANCIA\n",
        "FROM cobertura_ok C \n",
        "  INNER JOIN DIM_CENTRO_POBLADO CP ON C.codCentroPoblado = CP.COD_CENTRO_POBLADO\n",
        "  INNER JOIN DIM_AEROPUERTO A1 ON C.Aerodromo = A1.SIGLA AND A1.FECHA_FINALIZACION IS NULL\n",
        "UNION\n",
        "SELECT CP.SRK_CENTRO_POBLADO, SRK_AEROPUERTO, C.D_Regional DISTANCIA\n",
        "FROM cobertura_ok C \n",
        "  INNER JOIN DIM_CENTRO_POBLADO CP ON C.codCentroPoblado = CP.COD_CENTRO_POBLADO\n",
        "  INNER JOIN DIM_AEROPUERTO A1 ON C.Regional = A1.SIGLA AND FECHA_FINALIZACION IS NULL\n",
        "UNION\n",
        "SELECT CP.SRK_CENTRO_POBLADO, SRK_AEROPUERTO, C.D_Nacional DISTANCIA\n",
        "FROM cobertura_ok C \n",
        "  INNER JOIN DIM_CENTRO_POBLADO CP ON C.codCentroPoblado = CP.COD_CENTRO_POBLADO\n",
        "  INNER JOIN DIM_AEROPUERTO A1 ON C.Nacional = A1.SIGLA AND FECHA_FINALIZACION IS NULL\n",
        "UNION\n",
        "SELECT CP.SRK_CENTRO_POBLADO, SRK_AEROPUERTO, C.D_Internacional DISTANCIA\n",
        "FROM cobertura_ok C \n",
        "  INNER JOIN DIM_CENTRO_POBLADO CP ON C.codCentroPoblado = CP.COD_CENTRO_POBLADO\n",
        "  INNER JOIN DIM_AEROPUERTO A1 ON C.Internacional = A1.SIGLA AND FECHA_FINALIZACION IS NULL\n",
        "'''\n",
        "\n",
        "query = \"SELECT ROW_NUMBER() OVER (ORDER BY SRK_CENTRO_POBLADO) SRK_CENTRO_POBLADO_AEROPUERTO, * FROM ({})\".format(query_base)\n",
        "crear_tabla = \"CREATE TABLE {} USING CSV AS {}\".format(tabla, query)\n",
        "spark.sql(crear_tabla)"
      ],
      "execution_count": 18,
      "outputs": [
        {
          "output_type": "execute_result",
          "data": {
            "text/plain": [
              "DataFrame[]"
            ]
          },
          "metadata": {},
          "execution_count": 18
        }
      ]
    },
    {
      "cell_type": "code",
      "metadata": {
        "colab": {
          "base_uri": "https://localhost:8080/"
        },
        "id": "8SsvDtzXxG1S",
        "outputId": "82340e8c-ce62-4286-c4d6-daaae921130a"
      },
      "source": [
        "spark.sql(\"select * from CENTRO_POBLADO_AEROPUERTO\").show(10)"
      ],
      "execution_count": 19,
      "outputs": [
        {
          "output_type": "stream",
          "name": "stdout",
          "text": [
            "+-----------------------------+------------------+--------------+----------------+\n",
            "|SRK_CENTRO_POBLADO_AEROPUERTO|SRK_CENTRO_POBLADO|SRK_AEROPUERTO|       DISTANCIA|\n",
            "+-----------------------------+------------------+--------------+----------------+\n",
            "|                            1|                 1|           659|7.21322529297458|\n",
            "|                            2|                 1|           716| 18.647530806448|\n",
            "|                            3|                 1|           845|76.5051883878193|\n",
            "|                            4|                 2|           389|28.6288894672103|\n",
            "|                            5|                 2|           845|59.0531776161181|\n",
            "|                            6|                 2|           659| 58.844770553807|\n",
            "|                            7|                 3|           389|20.4466959254748|\n",
            "|                            8|                 3|           845|67.4331859343624|\n",
            "|                            9|                 3|           659|28.6349893826413|\n",
            "|                           10|                 4|           389|37.1893771448697|\n",
            "+-----------------------------+------------------+--------------+----------------+\n",
            "only showing top 10 rows\n",
            "\n"
          ]
        }
      ]
    },
    {
      "cell_type": "code",
      "metadata": {
        "colab": {
          "base_uri": "https://localhost:8080/"
        },
        "id": "RI4setEdTKj3",
        "outputId": "3d41abe3-8ac9-43e8-a7fb-3969d25e1915"
      },
      "source": [
        "#Creacion de tablas\n",
        "#Tabla de hechos de vuelos\n",
        "tabla = \"FACT_VUELO\"\n",
        "query_base = '''\n",
        "SELECT 'SALIENTE' TIPO, \n",
        "A.SRK_AEROPUERTO, \n",
        "F.SRK_FECHA,\n",
        "C.SRK_CLASE,\n",
        "vuelos VUELOS,\n",
        "sillas SILLAS,\n",
        "carga_ofrecida CARGA_OFRECIDA,\n",
        "pasajeros PASAJEROS,\n",
        "carga_bordo CARGA_BORDO\n",
        "FROM vuelos_ok V INNER JOIN DIM_AEROPUERTO A on V.origen = a.SIGLA and V.fecha >= A.FECHA_INICIO AND V.fecha < IFNULL(A.FECHA_FINALIZACION, current_date())\n",
        "INNER JOIN DIM_TIEMPO F ON V.fecha = F.FECHA\n",
        "INNER JOIN DIM_CLASE C ON V.tipo_equipo = C.TIPO_EQUIPO AND V.tipo_vuelo = C.TIPO_VUELO AND V.trafico = C.TRAFICO AND V.empresa = C.EMPRESA\n",
        "UNION\n",
        "SELECT 'ENTRANTE' TIPO, \n",
        "A.SRK_AEROPUERTO, \n",
        "F.SRK_FECHA,\n",
        "C.SRK_CLASE,\n",
        "vuelos VUELOS,\n",
        "sillas SILLAS,\n",
        "carga_ofrecida CARGA_OFRECIDA,\n",
        "pasajeros PASAJEROS,\n",
        "carga_bordo CARGA_BORDO\n",
        "FROM vuelos_ok V INNER JOIN DIM_AEROPUERTO A on V.destino = a.SIGLA and V.fecha >= A.FECHA_INICIO AND V.fecha < IFNULL(A.FECHA_FINALIZACION, current_date())\n",
        "INNER JOIN DIM_TIEMPO F ON V.fecha = F.FECHA\n",
        "INNER JOIN DIM_CLASE C ON V.tipo_equipo = C.TIPO_EQUIPO AND V.tipo_vuelo = C.TIPO_VUELO AND V.trafico = C.TRAFICO AND V.empresa = C.EMPRESA\n",
        "'''\n",
        "query = \"SELECT ROW_NUMBER() OVER (ORDER BY TIPO, SRK_AEROPUERTO, SRK_FECHA, SRK_CLASE) SRK_FACT_VUELO, * FROM ({})\".format(query_base)\n",
        "crear_tabla = \"CREATE TABLE {} USING CSV AS {}\".format(tabla, query)\n",
        "spark.sql(crear_tabla)"
      ],
      "execution_count": 20,
      "outputs": [
        {
          "output_type": "execute_result",
          "data": {
            "text/plain": [
              "DataFrame[]"
            ]
          },
          "metadata": {},
          "execution_count": 20
        }
      ]
    },
    {
      "cell_type": "code",
      "metadata": {
        "colab": {
          "base_uri": "https://localhost:8080/"
        },
        "id": "RV_dlFB6nFrG",
        "outputId": "351b9300-cd74-4217-cba4-d7e5d563f70f"
      },
      "source": [
        "spark.sql(\"select * from FACT_VUELO\").show(10)"
      ],
      "execution_count": 21,
      "outputs": [
        {
          "output_type": "stream",
          "name": "stdout",
          "text": [
            "+--------------+--------+--------------+---------+---------+------+------+--------------+---------+-----------+\n",
            "|SRK_FACT_VUELO|    TIPO|SRK_AEROPUERTO|SRK_FECHA|SRK_CLASE|VUELOS|SILLAS|CARGA_OFRECIDA|PASAJEROS|CARGA_BORDO|\n",
            "+--------------+--------+--------------+---------+---------+------+------+--------------+---------+-----------+\n",
            "|             1|ENTRANTE|             3|       41|      163|   1.0|   0.0|           0.0|      3.0|       30.0|\n",
            "|             2|ENTRANTE|             3|       41|      328|   2.0|   0.0|           0.0|      2.0|       50.0|\n",
            "|             3|ENTRANTE|             3|       43|      169|   1.0|   0.0|           0.0|      1.0|      100.0|\n",
            "|             4|ENTRANTE|             3|       43|      354|   1.0|   0.0|           0.0|      4.0|        0.0|\n",
            "|             5|ENTRANTE|             3|       44|      163|   1.0|   0.0|           0.0|      1.0|       90.0|\n",
            "|             6|ENTRANTE|             3|       45|      169|   1.0|   0.0|           0.0|      3.0|      100.0|\n",
            "|             7|ENTRANTE|             3|       45|      345|   1.0|   0.0|           0.0|      5.0|        0.0|\n",
            "|             8|ENTRANTE|             3|       46|      345|   1.0|   0.0|           0.0|      5.0|        0.0|\n",
            "|             9|ENTRANTE|             3|       52|      356|   1.0|   0.0|           0.0|      5.0|       50.0|\n",
            "|            10|ENTRANTE|             3|       53|      374|   1.0|   0.0|           0.0|      2.0|        0.0|\n",
            "+--------------+--------+--------------+---------+---------+------+------+--------------+---------+-----------+\n",
            "only showing top 10 rows\n",
            "\n"
          ]
        }
      ]
    },
    {
      "cell_type": "code",
      "metadata": {
        "colab": {
          "base_uri": "https://localhost:8080/"
        },
        "id": "qaIiB8kOXrOH",
        "outputId": "61319154-b1dd-46fb-d766-0f5c60f28360"
      },
      "source": [
        "spark.sql('DESCRIBE TABLE DIM_TIEMPO').show()"
      ],
      "execution_count": 22,
      "outputs": [
        {
          "output_type": "stream",
          "name": "stdout",
          "text": [
            "+---------+---------+-------+\n",
            "| col_name|data_type|comment|\n",
            "+---------+---------+-------+\n",
            "|SRK_FECHA|      int|   null|\n",
            "|    FECHA|timestamp|   null|\n",
            "|     ANHO|      int|   null|\n",
            "| SEMESTRE|   bigint|   null|\n",
            "|TRIMESTRE|   bigint|   null|\n",
            "|      MES|      int|   null|\n",
            "|      DIA|      int|   null|\n",
            "+---------+---------+-------+\n",
            "\n"
          ]
        }
      ]
    },
    {
      "cell_type": "code",
      "metadata": {
        "colab": {
          "base_uri": "https://localhost:8080/"
        },
        "id": "GwQsfovrY3YL",
        "outputId": "6758c9b5-3ff4-4f1f-eb35-f6345e192b3a"
      },
      "source": [
        "spark.sql('DESCRIBE TABLE DIM_CLASE').show()"
      ],
      "execution_count": 23,
      "outputs": [
        {
          "output_type": "stream",
          "name": "stdout",
          "text": [
            "+-----------+---------+-------+\n",
            "|   col_name|data_type|comment|\n",
            "+-----------+---------+-------+\n",
            "|  SRK_CLASE|      int|   null|\n",
            "|TIPO_EQUIPO|   string|   null|\n",
            "| TIPO_VUELO|   string|   null|\n",
            "|    TRAFICO|   string|   null|\n",
            "|    EMPRESA|   string|   null|\n",
            "+-----------+---------+-------+\n",
            "\n"
          ]
        }
      ]
    },
    {
      "cell_type": "code",
      "metadata": {
        "colab": {
          "base_uri": "https://localhost:8080/"
        },
        "id": "lPbXRAq-ZBUQ",
        "outputId": "38a42e38-33a0-45a2-ac91-6d6bd795ae5e"
      },
      "source": [
        "spark.sql('DESCRIBE TABLE DIM_AEROPUERTO').show()"
      ],
      "execution_count": 24,
      "outputs": [
        {
          "output_type": "stream",
          "name": "stdout",
          "text": [
            "+------------------+---------+-------+\n",
            "|          col_name|data_type|comment|\n",
            "+------------------+---------+-------+\n",
            "|    SRK_AEROPUERTO|      int|   null|\n",
            "|              IATA|   string|   null|\n",
            "|             SIGLA|   string|   null|\n",
            "|            NOMBRE|   string|   null|\n",
            "|         MUNICIPIO|   string|   null|\n",
            "|      DEPARTAMENTO|   string|   null|\n",
            "|         CATEGORIA|   string|   null|\n",
            "|           LATITUD|   string|   null|\n",
            "|          LONGITUD|   string|   null|\n",
            "|       PROPIETARIO|   string|   null|\n",
            "|        EXPLOTADOR|   string|   null|\n",
            "|    LONGITUD_PISTA|   double|   null|\n",
            "|       ANCHO_PISTA|   double|   null|\n",
            "|              PBMO|   double|   null|\n",
            "|         ELEVACION|   double|   null|\n",
            "|             CLASE|   string|   null|\n",
            "|              TIPO|   string|   null|\n",
            "|      FECHA_INICIO|timestamp|   null|\n",
            "|FECHA_FINALIZACION|timestamp|   null|\n",
            "+------------------+---------+-------+\n",
            "\n"
          ]
        }
      ]
    },
    {
      "cell_type": "code",
      "metadata": {
        "colab": {
          "base_uri": "https://localhost:8080/"
        },
        "id": "Yj9DolzGxPsG",
        "outputId": "7d4f15f3-d031-4147-e3cb-1b671c3e474a"
      },
      "source": [
        "spark.sql('DESCRIBE TABLE DIM_CENTRO_POBLADO').show()"
      ],
      "execution_count": 25,
      "outputs": [
        {
          "output_type": "stream",
          "name": "stdout",
          "text": [
            "+--------------------+---------+-------+\n",
            "|            col_name|data_type|comment|\n",
            "+--------------------+---------+-------+\n",
            "|  SRK_CENTRO_POBLADO|      int|   null|\n",
            "|  COD_CENTRO_POBLADO|   string|   null|\n",
            "|NOMBRE_CENTRO_POB...|   string|   null|\n",
            "|      TIPO_COBERTURA|   string|   null|\n",
            "+--------------------+---------+-------+\n",
            "\n"
          ]
        }
      ]
    },
    {
      "cell_type": "code",
      "metadata": {
        "colab": {
          "base_uri": "https://localhost:8080/"
        },
        "id": "I76mcajlxV4T",
        "outputId": "c5e804d2-db10-4647-e253-ccffc1fe5da2"
      },
      "source": [
        "spark.sql('DESCRIBE TABLE CENTRO_POBLADO_AEROPUERTO').show()"
      ],
      "execution_count": 26,
      "outputs": [
        {
          "output_type": "stream",
          "name": "stdout",
          "text": [
            "+--------------------+---------+-------+\n",
            "|            col_name|data_type|comment|\n",
            "+--------------------+---------+-------+\n",
            "|SRK_CENTRO_POBLAD...|      int|   null|\n",
            "|  SRK_CENTRO_POBLADO|      int|   null|\n",
            "|      SRK_AEROPUERTO|      int|   null|\n",
            "|           DISTANCIA|   double|   null|\n",
            "+--------------------+---------+-------+\n",
            "\n"
          ]
        }
      ]
    },
    {
      "cell_type": "code",
      "metadata": {
        "colab": {
          "base_uri": "https://localhost:8080/"
        },
        "id": "8qS_HcrexZDT",
        "outputId": "7031b6db-8152-40f3-fa3e-26c74021524f"
      },
      "source": [
        "spark.sql('DESCRIBE TABLE FACT_VUELO').show()"
      ],
      "execution_count": 27,
      "outputs": [
        {
          "output_type": "stream",
          "name": "stdout",
          "text": [
            "+--------------+---------+-------+\n",
            "|      col_name|data_type|comment|\n",
            "+--------------+---------+-------+\n",
            "|SRK_FACT_VUELO|      int|   null|\n",
            "|          TIPO|   string|   null|\n",
            "|SRK_AEROPUERTO|      int|   null|\n",
            "|     SRK_FECHA|      int|   null|\n",
            "|     SRK_CLASE|      int|   null|\n",
            "|        VUELOS|   double|   null|\n",
            "|        SILLAS|   double|   null|\n",
            "|CARGA_OFRECIDA|   double|   null|\n",
            "|     PASAJEROS|   double|   null|\n",
            "|   CARGA_BORDO|   double|   null|\n",
            "+--------------+---------+-------+\n",
            "\n"
          ]
        }
      ]
    },
    {
      "cell_type": "code",
      "metadata": {
        "id": "wVuv9Nk1JlLs"
      },
      "source": [
        "dfs = ['DIM_TIEMPO','DIM_AEROPUERTO','DIM_CLASE','DIM_CENTRO_POBLADO','FACT_VUELO','CENTRO_POBLADO_AEROPUERTO']\n",
        "for d in dfs:\n",
        "  dft = spark.table(d) \n",
        "  #dft.coalesce(1).write.csv(f\"{d}.CSV\", header=True)\n",
        "  dft.write \\\n",
        "    .format(\"jdbc\") \\\n",
        "    .option(\"url\", \"jdbc:sqlserver:dbserver\") \\\n",
        "    .option(d, d) \\\n",
        "    .option(\"user\", \"username\") \\\n",
        "    .option(\"password\", \"password\") \\\n",
        "    .save()"
      ],
      "execution_count": null,
      "outputs": []
    }
  ]
}